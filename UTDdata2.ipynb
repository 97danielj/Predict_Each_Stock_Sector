{
 "cells": [
  {
   "cell_type": "markdown",
   "metadata": {},
   "source": [
    "# 1. 환경설정"
   ]
  },
  {
   "cell_type": "code",
   "execution_count": 1,
   "metadata": {},
   "outputs": [],
   "source": [
    "import pandas as pd\n",
    "from bs4 import BeautifulSoup\n",
    "import requests\n",
    "import warnings\n",
    "warnings.filterwarnings('ignore')\n",
    "import time\n",
    "import pickle\n",
    "from tqdm import tqdm"
   ]
  },
  {
   "cell_type": "code",
   "execution_count": 2,
   "metadata": {},
   "outputs": [],
   "source": [
    "import pickle\n",
    "with open('sector.pickle','rb') as f:\n",
    "    sector = pickle.load(f)"
   ]
  },
  {
   "cell_type": "markdown",
   "metadata": {},
   "source": [
    "# 2. 일별 종가 데이터 수집 - 20개\n",
    "키움API는 구름IDE에서 실행이 안되어 따로 웹크롤링"
   ]
  },
  {
   "cell_type": "code",
   "execution_count": 3,
   "metadata": {},
   "outputs": [],
   "source": [
    "def get_stock_price(code, num_of_pages):\n",
    "    url = f\"http://finance.naver.com/item/sise_day.nhn?code={code}\" \n",
    "    bs = BeautifulSoup(requests.get(url=url, headers = headers).text, 'html.parser')\n",
    "    pgrr = bs.find(\"td\", class_=\"pgRR\")\n",
    "    last_page = int(pgrr.a[\"href\"].split('=')[-1])\n",
    "    pages = min(last_page, num_of_pages) # 마지막 페이지와 가져올 페이지 수 중에 작은 값 선택\n",
    "    df = pd.DataFrame()\n",
    "\n",
    "    for page in range(1, pages+1):\n",
    "        page_url = '{}&page={}'.format(url, page)\n",
    "        df = df.append(pd.read_html(requests.get(page_url, headers={'User-agent': 'Mozilla/5.0'}).text)[0])\n",
    "        \n",
    "    df['일자'] = pd.to_datetime(df['날짜']) \n",
    "    df = df.dropna()\n",
    "    df[['종가',  '시가', '고가', '저가', '거래량']] = df[['종가', '시가', '고가', '저가', '거래량']].astype(int) # int형으로 변경\n",
    "    df = df[['일자', '거래량','시가', '고가', '저가','종가']] # 컬럼 순서 정렬\n",
    "    df = df.sort_values(by = '일자') # 날짜순으로 정렬\n",
    "    df = df.loc[::-1].reset_index(drop=True)\n",
    "    return df"
   ]
  },
  {
   "cell_type": "code",
   "execution_count": 4,
   "metadata": {},
   "outputs": [],
   "source": [
    "headers = {'User-agent': 'Mozilla/5.0'}\n",
    "pages = 1\n",
    "df_sector_UTD = {}\n",
    "for sector_name in sector:\n",
    "    df_sector_UTD[sector_name] = {}\n"
   ]
  },
  {
   "cell_type": "code",
   "execution_count": 5,
   "metadata": {},
   "outputs": [
    {
     "name": "stderr",
     "output_type": "stream",
     "text": [
      "100%|████████████████████████████████████████████████████████████████████████████████████████████████████████| 5/5 [00:02<00:00,  2.48it/s]\n",
      "100%|████████████████████████████████████████████████████████████████████████████████████████████████████████| 5/5 [00:01<00:00,  3.11it/s]\n",
      "100%|████████████████████████████████████████████████████████████████████████████████████████████████████████| 5/5 [00:01<00:00,  2.78it/s]\n",
      "100%|████████████████████████████████████████████████████████████████████████████████████████████████████████| 5/5 [00:01<00:00,  3.47it/s]\n",
      "100%|████████████████████████████████████████████████████████████████████████████████████████████████████████| 4/4 [00:01<00:00,  3.16it/s]\n",
      "100%|████████████████████████████████████████████████████████████████████████████████████████████████████████| 5/5 [00:01<00:00,  3.10it/s]\n",
      "100%|████████████████████████████████████████████████████████████████████████████████████████████████████████| 4/4 [00:01<00:00,  3.44it/s]\n",
      "100%|████████████████████████████████████████████████████████████████████████████████████████████████████████| 5/5 [00:01<00:00,  3.37it/s]\n",
      "100%|████████████████████████████████████████████████████████████████████████████████████████████████████████| 4/4 [00:01<00:00,  2.14it/s]\n",
      "100%|████████████████████████████████████████████████████████████████████████████████████████████████████████| 5/5 [00:01<00:00,  3.44it/s]\n",
      "100%|████████████████████████████████████████████████████████████████████████████████████████████████████████| 5/5 [00:01<00:00,  3.39it/s]\n",
      "100%|████████████████████████████████████████████████████████████████████████████████████████████████████████| 3/3 [00:00<00:00,  3.33it/s]\n",
      "100%|████████████████████████████████████████████████████████████████████████████████████████████████████████| 3/3 [00:01<00:00,  2.80it/s]\n",
      "100%|████████████████████████████████████████████████████████████████████████████████████████████████████████| 5/5 [00:01<00:00,  3.30it/s]\n",
      "100%|████████████████████████████████████████████████████████████████████████████████████████████████████████| 4/4 [00:01<00:00,  2.90it/s]\n",
      "100%|████████████████████████████████████████████████████████████████████████████████████████████████████████| 4/4 [00:01<00:00,  3.30it/s]\n",
      "100%|████████████████████████████████████████████████████████████████████████████████████████████████████████| 5/5 [00:01<00:00,  3.31it/s]\n",
      "100%|████████████████████████████████████████████████████████████████████████████████████████████████████████| 6/6 [00:01<00:00,  3.30it/s]\n"
     ]
    }
   ],
   "source": [
    "for sector_name, code_list in sector.items():\n",
    "    for stock_code in tqdm(code_list):\n",
    "        df_sector_UTD[sector_name][stock_code] = get_stock_price(stock_code,pages)\n",
    "        time.sleep(0.01)"
   ]
  },
  {
   "cell_type": "markdown",
   "metadata": {},
   "source": [
    "# 이전 data와 최신 data 병합(최신화)"
   ]
  },
  {
   "cell_type": "code",
   "execution_count": 10,
   "metadata": {},
   "outputs": [],
   "source": [
    "with open('df_sector.pickle','rb') as f:\n",
    "    df_sector = pickle.load(f)"
   ]
  },
  {
   "cell_type": "code",
   "execution_count": 12,
   "metadata": {},
   "outputs": [],
   "source": [
    "for sector_name, df_dict in df_sector.items():\n",
    "    for stock_code, df in df_dict.items():\n",
    "        df = pd.concat([df_sector_UTD[sector_name][stock_code],df_sector[sector_name][stock_code]],axis=0)\n",
    "        df=df.drop_duplicates(subset=['일자'])\n",
    "        df = df.reset_index(drop=True)\n",
    "        df_sector[sector_name][stock_code] = df"
   ]
  },
  {
   "cell_type": "code",
   "execution_count": 13,
   "metadata": {},
   "outputs": [
    {
     "data": {
      "text/html": [
       "<div>\n",
       "<style scoped>\n",
       "    .dataframe tbody tr th:only-of-type {\n",
       "        vertical-align: middle;\n",
       "    }\n",
       "\n",
       "    .dataframe tbody tr th {\n",
       "        vertical-align: top;\n",
       "    }\n",
       "\n",
       "    .dataframe thead th {\n",
       "        text-align: right;\n",
       "    }\n",
       "</style>\n",
       "<table border=\"1\" class=\"dataframe\">\n",
       "  <thead>\n",
       "    <tr style=\"text-align: right;\">\n",
       "      <th></th>\n",
       "      <th>일자</th>\n",
       "      <th>거래량</th>\n",
       "      <th>시가</th>\n",
       "      <th>고가</th>\n",
       "      <th>저가</th>\n",
       "      <th>종가</th>\n",
       "    </tr>\n",
       "  </thead>\n",
       "  <tbody>\n",
       "    <tr>\n",
       "      <th>0</th>\n",
       "      <td>2022-07-22</td>\n",
       "      <td>15449</td>\n",
       "      <td>394500</td>\n",
       "      <td>398500</td>\n",
       "      <td>394500</td>\n",
       "      <td>396500</td>\n",
       "    </tr>\n",
       "    <tr>\n",
       "      <th>1</th>\n",
       "      <td>2022-07-21</td>\n",
       "      <td>19596</td>\n",
       "      <td>397000</td>\n",
       "      <td>399500</td>\n",
       "      <td>394000</td>\n",
       "      <td>398500</td>\n",
       "    </tr>\n",
       "    <tr>\n",
       "      <th>2</th>\n",
       "      <td>2022-07-20</td>\n",
       "      <td>39486</td>\n",
       "      <td>402000</td>\n",
       "      <td>403000</td>\n",
       "      <td>395500</td>\n",
       "      <td>396500</td>\n",
       "    </tr>\n",
       "    <tr>\n",
       "      <th>3</th>\n",
       "      <td>2022-07-19</td>\n",
       "      <td>41409</td>\n",
       "      <td>393000</td>\n",
       "      <td>405000</td>\n",
       "      <td>390000</td>\n",
       "      <td>405000</td>\n",
       "    </tr>\n",
       "    <tr>\n",
       "      <th>4</th>\n",
       "      <td>2022-07-18</td>\n",
       "      <td>27816</td>\n",
       "      <td>396000</td>\n",
       "      <td>399000</td>\n",
       "      <td>389000</td>\n",
       "      <td>391000</td>\n",
       "    </tr>\n",
       "    <tr>\n",
       "      <th>...</th>\n",
       "      <td>...</td>\n",
       "      <td>...</td>\n",
       "      <td>...</td>\n",
       "      <td>...</td>\n",
       "      <td>...</td>\n",
       "      <td>...</td>\n",
       "    </tr>\n",
       "    <tr>\n",
       "      <th>2996</th>\n",
       "      <td>2010-06-01</td>\n",
       "      <td>31617</td>\n",
       "      <td>214000</td>\n",
       "      <td>215000</td>\n",
       "      <td>210000</td>\n",
       "      <td>211000</td>\n",
       "    </tr>\n",
       "    <tr>\n",
       "      <th>2997</th>\n",
       "      <td>2010-05-31</td>\n",
       "      <td>30990</td>\n",
       "      <td>215000</td>\n",
       "      <td>215000</td>\n",
       "      <td>211500</td>\n",
       "      <td>214000</td>\n",
       "    </tr>\n",
       "    <tr>\n",
       "      <th>2998</th>\n",
       "      <td>2010-05-28</td>\n",
       "      <td>64458</td>\n",
       "      <td>211500</td>\n",
       "      <td>213000</td>\n",
       "      <td>208000</td>\n",
       "      <td>213000</td>\n",
       "    </tr>\n",
       "    <tr>\n",
       "      <th>2999</th>\n",
       "      <td>2010-05-27</td>\n",
       "      <td>46323</td>\n",
       "      <td>208500</td>\n",
       "      <td>212000</td>\n",
       "      <td>205000</td>\n",
       "      <td>211500</td>\n",
       "    </tr>\n",
       "    <tr>\n",
       "      <th>3000</th>\n",
       "      <td>2010-05-26</td>\n",
       "      <td>77164</td>\n",
       "      <td>212500</td>\n",
       "      <td>213500</td>\n",
       "      <td>203500</td>\n",
       "      <td>213500</td>\n",
       "    </tr>\n",
       "  </tbody>\n",
       "</table>\n",
       "<p>3001 rows × 6 columns</p>\n",
       "</div>"
      ],
      "text/plain": [
       "             일자    거래량      시가      고가      저가      종가\n",
       "0    2022-07-22  15449  394500  398500  394500  396500\n",
       "1    2022-07-21  19596  397000  399500  394000  398500\n",
       "2    2022-07-20  39486  402000  403000  395500  396500\n",
       "3    2022-07-19  41409  393000  405000  390000  405000\n",
       "4    2022-07-18  27816  396000  399000  389000  391000\n",
       "...         ...    ...     ...     ...     ...     ...\n",
       "2996 2010-06-01  31617  214000  215000  210000  211000\n",
       "2997 2010-05-31  30990  215000  215000  211500  214000\n",
       "2998 2010-05-28  64458  211500  213000  208000  213000\n",
       "2999 2010-05-27  46323  208500  212000  205000  211500\n",
       "3000 2010-05-26  77164  212500  213500  203500  213500\n",
       "\n",
       "[3001 rows x 6 columns]"
      ]
     },
     "execution_count": 13,
     "metadata": {},
     "output_type": "execute_result"
    }
   ],
   "source": [
    "df_sector['Food']['097950']"
   ]
  },
  {
   "cell_type": "code",
   "execution_count": 14,
   "metadata": {},
   "outputs": [],
   "source": [
    "with open('df_sector_UTD.pickle','wb') as f:\n",
    "    pickle.dump(df_sector,f)"
   ]
  },
  {
   "cell_type": "code",
   "execution_count": null,
   "metadata": {},
   "outputs": [],
   "source": []
  }
 ],
 "metadata": {
  "kernelspec": {
   "display_name": "Python 3",
   "language": "python",
   "name": "python3"
  },
  "language_info": {
   "codemirror_mode": {
    "name": "ipython",
    "version": 3
   },
   "file_extension": ".py",
   "mimetype": "text/x-python",
   "name": "python",
   "nbconvert_exporter": "python",
   "pygments_lexer": "ipython3",
   "version": "3.7.4"
  }
 },
 "nbformat": 4,
 "nbformat_minor": 5
}
