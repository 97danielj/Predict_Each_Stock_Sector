{
 "cells": [
  {
   "cell_type": "code",
   "execution_count": 1,
   "id": "eb43d1cb",
   "metadata": {},
   "outputs": [],
   "source": [
    "import time\n",
    "import pandas as pd\n",
    "from pykiwoom.kiwoom import *\n",
    "import warnings\n",
    "warnings.filterwarnings('ignore')\n",
    "\n",
    "kiwoom = Kiwoom()\n",
    "kiwoom.CommConnect(block=True)"
   ]
  },
  {
   "cell_type": "code",
   "execution_count": 2,
   "id": "ba06a2dc",
   "metadata": {},
   "outputs": [
    {
     "name": "stdout",
     "output_type": "stream",
     "text": [
      "20220709 <class 'str'>\n"
     ]
    }
   ],
   "source": [
    "from datetime import date,datetime\n",
    "today = date.today()\n",
    "today = today.isoformat()\n",
    "today = today.replace('-','')\n",
    "yesterday = int(today)-1\n",
    "yesterday = str(yesterday)\n",
    "print(yesterday, type(yesterday))\n",
    "set_d = yesterday"
   ]
  },
  {
   "cell_type": "code",
   "execution_count": 9,
   "id": "2c0cbe26",
   "metadata": {},
   "outputs": [
    {
     "name": "stdout",
     "output_type": "stream",
     "text": [
      "CommRqData opt20006 opt20006 0 0101\n",
      "      현재가     거래량        일자      시가      고가      저가     거래대금 대업종구분 소업종구분 종목정보  \\\n",
      "0  235061  411424  20220708  235249  236784  234874  7008117                    \n",
      "1  233427  340172  20220707  230897  234414  230790  7652635                    \n",
      "2  229201  410732  20220706  233011  233214  229033  8919471                    \n",
      "3  234178  323904  20220705  232211  234408  230962  6890579                    \n",
      "4  230034  467959  20220704  231073  231831  227663  7339364                    \n",
      "\n",
      "  전일종가  \n",
      "0       \n",
      "1       \n",
      "2       \n",
      "3       \n",
      "4       \n",
      "CommRqData opt20006 opt20006 2 0101\n",
      "CommRqData opt20006 opt20006 2 0101\n",
      "CommRqData opt20006 opt20006 2 0101\n",
      "CommRqData opt20006 opt20006 2 0101\n"
     ]
    }
   ],
   "source": [
    "dfs = []\n",
    "df = kiwoom.block_request(\"opt20006\",\n",
    "                          업종코드=\"001\",\n",
    "                          기준일자=set_d,\n",
    "                          output=\"업종일봉조회\",\n",
    "                          next=0)\n",
    "print(df.head())\n",
    "dfs.append(df)\n",
    "\n",
    "count = 1\n",
    "while kiwoom.tr_remained:\n",
    "    if count == 5:\n",
    "        break;\n",
    "    df = kiwoom.block_request(\"opt20006\",\n",
    "                              업종코드=\"001\",\n",
    "                              기준일자=set_d,\n",
    "                              output=\"업종일봉조회\",\n",
    "                              next=2)\n",
    "    dfs.append(df)\n",
    "    count+=1\n",
    "    \n",
    "    \n",
    "df = pd.concat(dfs)"
   ]
  },
  {
   "cell_type": "code",
   "execution_count": 10,
   "id": "dd5e8b59",
   "metadata": {},
   "outputs": [],
   "source": [
    "df = df[['일자', '현재가']]"
   ]
  },
  {
   "cell_type": "code",
   "execution_count": 11,
   "id": "66f4967d",
   "metadata": {},
   "outputs": [
    {
     "data": {
      "text/html": [
       "<div>\n",
       "<style scoped>\n",
       "    .dataframe tbody tr th:only-of-type {\n",
       "        vertical-align: middle;\n",
       "    }\n",
       "\n",
       "    .dataframe tbody tr th {\n",
       "        vertical-align: top;\n",
       "    }\n",
       "\n",
       "    .dataframe thead th {\n",
       "        text-align: right;\n",
       "    }\n",
       "</style>\n",
       "<table border=\"1\" class=\"dataframe\">\n",
       "  <thead>\n",
       "    <tr style=\"text-align: right;\">\n",
       "      <th></th>\n",
       "      <th>일자</th>\n",
       "      <th>현재가</th>\n",
       "    </tr>\n",
       "  </thead>\n",
       "  <tbody>\n",
       "    <tr>\n",
       "      <th>0</th>\n",
       "      <td>20220708</td>\n",
       "      <td>235061</td>\n",
       "    </tr>\n",
       "    <tr>\n",
       "      <th>1</th>\n",
       "      <td>20220707</td>\n",
       "      <td>233427</td>\n",
       "    </tr>\n",
       "    <tr>\n",
       "      <th>2</th>\n",
       "      <td>20220706</td>\n",
       "      <td>229201</td>\n",
       "    </tr>\n",
       "    <tr>\n",
       "      <th>3</th>\n",
       "      <td>20220705</td>\n",
       "      <td>234178</td>\n",
       "    </tr>\n",
       "    <tr>\n",
       "      <th>4</th>\n",
       "      <td>20220704</td>\n",
       "      <td>230034</td>\n",
       "    </tr>\n",
       "    <tr>\n",
       "      <th>...</th>\n",
       "      <td>...</td>\n",
       "      <td>...</td>\n",
       "    </tr>\n",
       "    <tr>\n",
       "      <th>595</th>\n",
       "      <td>20100518</td>\n",
       "      <td>164324</td>\n",
       "    </tr>\n",
       "    <tr>\n",
       "      <th>596</th>\n",
       "      <td>20100517</td>\n",
       "      <td>165151</td>\n",
       "    </tr>\n",
       "    <tr>\n",
       "      <th>597</th>\n",
       "      <td>20100514</td>\n",
       "      <td>169563</td>\n",
       "    </tr>\n",
       "    <tr>\n",
       "      <th>598</th>\n",
       "      <td>20100513</td>\n",
       "      <td>169458</td>\n",
       "    </tr>\n",
       "    <tr>\n",
       "      <th>599</th>\n",
       "      <td>20100512</td>\n",
       "      <td>166303</td>\n",
       "    </tr>\n",
       "  </tbody>\n",
       "</table>\n",
       "<p>3000 rows × 2 columns</p>\n",
       "</div>"
      ],
      "text/plain": [
       "           일자     현재가\n",
       "0    20220708  235061\n",
       "1    20220707  233427\n",
       "2    20220706  229201\n",
       "3    20220705  234178\n",
       "4    20220704  230034\n",
       "..        ...     ...\n",
       "595  20100518  164324\n",
       "596  20100517  165151\n",
       "597  20100514  169563\n",
       "598  20100513  169458\n",
       "599  20100512  166303\n",
       "\n",
       "[3000 rows x 2 columns]"
      ]
     },
     "execution_count": 11,
     "metadata": {},
     "output_type": "execute_result"
    }
   ],
   "source": [
    "df"
   ]
  },
  {
   "cell_type": "code",
   "execution_count": null,
   "id": "e52a72fa",
   "metadata": {},
   "outputs": [],
   "source": []
  }
 ],
 "metadata": {
  "kernelspec": {
   "display_name": "Python 3 (ipykernel)",
   "language": "python",
   "name": "python3"
  },
  "language_info": {
   "codemirror_mode": {
    "name": "ipython",
    "version": 3
   },
   "file_extension": ".py",
   "mimetype": "text/x-python",
   "name": "python",
   "nbconvert_exporter": "python",
   "pygments_lexer": "ipython3",
   "version": "3.7.13"
  }
 },
 "nbformat": 4,
 "nbformat_minor": 5
}
