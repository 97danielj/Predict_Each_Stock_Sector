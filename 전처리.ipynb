{
 "cells": [
  {
   "cell_type": "code",
   "execution_count": 1,
   "id": "714bbb3a",
   "metadata": {},
   "outputs": [],
   "source": [
    "import time\n",
    "import pandas as pd\n",
    "import pickle\n",
    "from sklearn.preprocessing import MinMaxScaler\n",
    "import warnings\n",
    "warnings.filterwarnings('ignore')"
   ]
  },
  {
   "cell_type": "markdown",
   "id": "ea700fcb",
   "metadata": {},
   "source": [
    "# 데이터 로드"
   ]
  },
  {
   "cell_type": "code",
   "execution_count": 2,
   "id": "43785176",
   "metadata": {},
   "outputs": [],
   "source": [
    "import pickle\n",
    "with open('df_sector.pickle','rb') as f:\n",
    "    df_sector = pickle.load(f)\n",
    "with open('kospi.pickle','rb') as f:\n",
    "    kospi = pickle.load(f)"
   ]
  },
  {
   "cell_type": "markdown",
   "id": "77fc1671",
   "metadata": {},
   "source": [
    "# 1. 등락률 계산\n",
    "# 2. 거래변동량 계산"
   ]
  },
  {
   "cell_type": "code",
   "execution_count": 3,
   "id": "672f6ba3",
   "metadata": {},
   "outputs": [],
   "source": [
    "#등락률 계산 : 일 등락률 = (오늘종가 – 어제종가) / 어제종가 * 100 => 평균\n",
    "#등락률\n",
    "for sector_name, df_dict in df_sector.items():\n",
    "    for stockcode, df in df_dict.items():\n",
    "        등락률 = []\n",
    "        거래변동량 = []\n",
    "        for i in range(len(df)): #현재가 수\n",
    "            if i == len(df)-1: #각 항목의 마지막 인덱스인경우\n",
    "                break\n",
    "            else:    \n",
    "                등락률.append((df['종가'][i]-df['종가'][i+1])/df['종가'][i+1]*100)\n",
    "                거래변동량.append(abs((df['거래량'][i]-df['거래량'][i+1])))\n",
    "        등락률.append(0)\n",
    "        거래변동량.append(0)\n",
    "        df['등락률']=등락률\n",
    "        df['거래변동량']=거래변동량"
   ]
  },
  {
   "cell_type": "markdown",
   "id": "9efb5d5d",
   "metadata": {},
   "source": [
    "# 3. 종가data 정규화"
   ]
  },
  {
   "cell_type": "code",
   "execution_count": 4,
   "id": "c329deeb",
   "metadata": {},
   "outputs": [],
   "source": [
    "for sector_name, df_dict in df_sector.items():\n",
    "    for stockcode, df in df_dict.items():\n",
    "        scaler = MinMaxScaler()\n",
    "        scaler.fit(pd.DataFrame(data = df['종가']))\n",
    "        df_scaled = scaler.transform(pd.DataFrame(data = df['종가']))\n",
    "        df['정규화_종가']=pd.DataFrame(data = df_scaled)"
   ]
  },
  {
   "cell_type": "markdown",
   "id": "2d18d24e",
   "metadata": {},
   "source": [
    "# 4. 데이터가 부족한 항목 조회"
   ]
  },
  {
   "cell_type": "code",
   "execution_count": 5,
   "id": "372204cd",
   "metadata": {},
   "outputs": [
    {
     "name": "stdout",
     "output_type": "stream",
     "text": [
      "{'Food': ['271560'], 'Clothing': ['383220'], 'Chemical': [], 'Medicine': ['207940', '302440', '128940'], 'Non_Metal': ['300720'], 'Metal': [], 'Machine': ['241560', '112610'], 'Electronic': ['373220'], 'Construction': [], 'Transport': ['180640'], 'Distribution': ['028260', '282330', '139480'], 'Power': [], 'Tele': [], 'Finance': ['323410', '377300'], 'Brokerage': [], 'Insurer': [], 'Service': ['259960', '018260'], 'Manufacturer': ['329180']}\n"
     ]
    }
   ],
   "source": [
    "lack_sector_list={}\n",
    "for sector_name, df_dict in df_sector.items():\n",
    "    lack_stock_list = []\n",
    "    for stockcode, df in df_dict.items():\n",
    "        if len(df)<3000:\n",
    "            lack_stock_list.append(stockcode)\n",
    "    lack_sector_list[sector_name] = lack_stock_list\n",
    "print(lack_sector_list)\n",
    "            \n",
    "            \n",
    "            "
   ]
  },
  {
   "cell_type": "raw",
   "id": "9c290220",
   "metadata": {},
   "source": [
    "평균을 쓴다 -> 일자별로 매핑시킨다.?\n",
    "그러면 데이터 프레임을 합쳐서 일자별로 평균을 낸다. 2015=10=11\n",
    "하나의 데이터프레임이 나온다. -> 한 업종의 데이터프레임> 3000*4+1230 데이터프레임 -> 날짜별 평균을 -> 날짜별 내림차순 -> 업종의 데이터프레임이 나온다. 2015 -10 -11 평균을 낸다하면 4개의 레코드가 연산에포함된다.\n",
    "\n"
   ]
  },
  {
   "cell_type": "code",
   "execution_count": 6,
   "id": "829c061f",
   "metadata": {},
   "outputs": [],
   "source": [
    "df_concat_sector = {}\n",
    "for sector_name, df_dict in df_sector.items():\n",
    "    sector_df = pd.concat(df_dict,axis=0)\n",
    "    sector_df.reset_index(drop=True, inplace=True)\n",
    "    df_concat_sector[sector_name] = sector_df\n",
    "    "
   ]
  },
  {
   "cell_type": "code",
   "execution_count": 7,
   "id": "e930f11d",
   "metadata": {},
   "outputs": [
    {
     "name": "stdout",
     "output_type": "stream",
     "text": [
      "<class 'pandas.core.frame.DataFrame'>\n",
      "RangeIndex: 13230 entries, 0 to 13229\n",
      "Data columns (total 6 columns):\n",
      " #   Column  Non-Null Count  Dtype         \n",
      "---  ------  --------------  -----         \n",
      " 0   일자      13230 non-null  datetime64[ns]\n",
      " 1   거래량     13230 non-null  int32         \n",
      " 2   종가      13230 non-null  int32         \n",
      " 3   등락률     13230 non-null  float64       \n",
      " 4   거래변동량   13230 non-null  int64         \n",
      " 5   정규화_종가  13230 non-null  float64       \n",
      "dtypes: datetime64[ns](1), float64(2), int32(2), int64(1)\n",
      "memory usage: 516.9 KB\n"
     ]
    }
   ],
   "source": [
    "df_concat_sector['Food'].info()"
   ]
  },
  {
   "cell_type": "code",
   "execution_count": 8,
   "id": "e2456fb9",
   "metadata": {},
   "outputs": [
    {
     "data": {
      "text/plain": [
       "{'097950':              일자     거래량      종가       등락률  거래변동량    정규화_종가\n",
       " 0    2022-07-08   26223  389000 -0.765306   4713  0.693333\n",
       " 1    2022-07-07   21510  392000 -0.254453  11143  0.702222\n",
       " 2    2022-07-06   32653  393000 -1.132075   2907  0.705185\n",
       " 3    2022-07-05   35560  397500 -0.749064  24183  0.718519\n",
       " 4    2022-07-04   59743  400500  2.168367   2056  0.727407\n",
       " ...         ...     ...     ...       ...    ...       ...\n",
       " 2995 2010-05-18   93284  220000  5.263158  21209  0.192593\n",
       " 2996 2010-05-17   72075  209000  0.480769  63428  0.160000\n",
       " 2997 2010-05-14  135503  208000 -4.367816  76719  0.157037\n",
       " 2998 2010-05-13   58784  217500  0.230415  16317  0.185185\n",
       " 2999 2010-05-12   75101  217000  0.000000      0  0.183704\n",
       " \n",
       " [3000 rows x 6 columns],\n",
       " '271560':              일자      거래량      종가       등락률   거래변동량    정규화_종가\n",
       " 0    2022-07-08   118773  106000 -1.395349   10625  0.345912\n",
       " 1    2022-07-07   129398  107500  2.380952   36373  0.364780\n",
       " 2    2022-07-06   165771  105000  0.000000   55658  0.333333\n",
       " 3    2022-07-05   221429  105000 -2.777778   70501  0.333333\n",
       " 4    2022-07-04   150928  108000  1.886792   28355  0.371069\n",
       " ...         ...      ...     ...       ...     ...       ...\n",
       " 1225 2017-07-13   218138   81600 -2.275449   20269  0.038994\n",
       " 1226 2017-07-12   238407   83500  0.845411  183896  0.062893\n",
       " 1227 2017-07-11   422303   82800 -5.909091  418148  0.054088\n",
       " 1228 2017-07-10   840451   88000  6.925881  779413  0.119497\n",
       " 1229 2017-07-07  1619864   82300  0.000000       0  0.047799\n",
       " \n",
       " [1230 rows x 6 columns],\n",
       " '000080':              일자     거래량     종가       등락률   거래변동량    정규화_종가\n",
       " 0    2022-07-08  202324  30650  0.656814   89957  0.491987\n",
       " 1    2022-07-07  112367  30450  0.495050  133455  0.485577\n",
       " 2    2022-07-06  245822  30300  0.165289   21782  0.480769\n",
       " 3    2022-07-05  224040  30250  0.331675   90821  0.479167\n",
       " 4    2022-07-04  314861  30150 -1.470588   66414  0.475962\n",
       " ...         ...     ...    ...       ...     ...       ...\n",
       " 2995 2010-05-18  232232  30700 -4.062500  128449  0.493590\n",
       " 2996 2010-05-17  103783  32000 -3.177005   33413  0.535256\n",
       " 2997 2010-05-14   70370  33050 -1.343284   10014  0.568910\n",
       " 2998 2010-05-13   80384  33500 -0.593472   26002  0.583333\n",
       " 2999 2010-05-12   54382  33700  0.000000       0  0.589744\n",
       " \n",
       " [3000 rows x 6 columns],\n",
       " '004370':              일자    거래량      종가       등락률  거래변동량    정규화_종가\n",
       " 0    2022-07-08  23999  283000 -1.048951   6343  0.259587\n",
       " 1    2022-07-07  17656  286000 -0.694444  14638  0.268437\n",
       " 2    2022-07-06  32294  288000 -1.200686   4680  0.274336\n",
       " 3    2022-07-05  27614  291500  1.745201   4993  0.284661\n",
       " 4    2022-07-04  32607  286500  0.526316  44532  0.269912\n",
       " ...         ...    ...     ...       ...    ...       ...\n",
       " 2995 2010-05-18  35868  228500  3.393665  19597  0.098820\n",
       " 2996 2010-05-17  16271  221000  0.683371   7097  0.076696\n",
       " 2997 2010-05-14   9174  219500 -2.008929   4074  0.072271\n",
       " 2998 2010-05-13   5100  224000  0.448430   2837  0.085546\n",
       " 2999 2010-05-12   7937  223000  0.000000      0  0.082596\n",
       " \n",
       " [3000 rows x 6 columns],\n",
       " '005300':              일자    거래량      종가       등락률  거래변동량    정규화_종가\n",
       " 0    2022-07-08  26164  174000  0.578035   8347  0.496020\n",
       " 1    2022-07-07  34511  173000  0.581395  13396  0.491045\n",
       " 2    2022-07-06  47907  172000  2.994012  39138  0.486070\n",
       " 3    2022-07-05  87045  167000 -1.764706  46633  0.461194\n",
       " 4    2022-07-04  40412  170000 -1.449275   4686  0.476119\n",
       " ...         ...    ...     ...       ...    ...       ...\n",
       " 2995 2010-05-18  11740   83400  0.603136   3450  0.045274\n",
       " 2996 2010-05-17  15190   82900  0.120773   2450  0.042786\n",
       " 2997 2010-05-14  12740   82800 -1.662708   2150  0.042289\n",
       " 2998 2010-05-13  14890   84200  1.323706   2800  0.049254\n",
       " 2999 2010-05-12  12090   83100  0.000000      0  0.043781\n",
       " \n",
       " [3000 rows x 6 columns]}"
      ]
     },
     "execution_count": 8,
     "metadata": {},
     "output_type": "execute_result"
    }
   ],
   "source": [
    "df_sector['Food']"
   ]
  },
  {
   "cell_type": "code",
   "execution_count": 9,
   "id": "3504748f",
   "metadata": {},
   "outputs": [],
   "source": [
    "df_mean_sector = {}\n",
    "for sector_name, sector_df in df_concat_sector.items():\n",
    "    df_mean = sector_df.groupby(['일자'],as_index=False).mean()\n",
    "    df_mean_sector[sector_name] = df_mean\n",
    "    "
   ]
  },
  {
   "cell_type": "code",
   "execution_count": 10,
   "id": "2f54fd68",
   "metadata": {},
   "outputs": [
    {
     "data": {
      "text/html": [
       "<div>\n",
       "<style scoped>\n",
       "    .dataframe tbody tr th:only-of-type {\n",
       "        vertical-align: middle;\n",
       "    }\n",
       "\n",
       "    .dataframe tbody tr th {\n",
       "        vertical-align: top;\n",
       "    }\n",
       "\n",
       "    .dataframe thead th {\n",
       "        text-align: right;\n",
       "    }\n",
       "</style>\n",
       "<table border=\"1\" class=\"dataframe\">\n",
       "  <thead>\n",
       "    <tr style=\"text-align: right;\">\n",
       "      <th></th>\n",
       "      <th>일자</th>\n",
       "      <th>거래량</th>\n",
       "      <th>종가</th>\n",
       "      <th>등락률</th>\n",
       "      <th>거래변동량</th>\n",
       "      <th>정규화_종가</th>\n",
       "    </tr>\n",
       "  </thead>\n",
       "  <tbody>\n",
       "    <tr>\n",
       "      <th>0</th>\n",
       "      <td>2010-05-12</td>\n",
       "      <td>37377.50</td>\n",
       "      <td>139200.0</td>\n",
       "      <td>0.000000</td>\n",
       "      <td>0.00</td>\n",
       "      <td>0.224956</td>\n",
       "    </tr>\n",
       "    <tr>\n",
       "      <th>1</th>\n",
       "      <td>2010-05-13</td>\n",
       "      <td>39789.50</td>\n",
       "      <td>139800.0</td>\n",
       "      <td>0.352270</td>\n",
       "      <td>11989.00</td>\n",
       "      <td>0.225829</td>\n",
       "    </tr>\n",
       "    <tr>\n",
       "      <th>2</th>\n",
       "      <td>2010-05-14</td>\n",
       "      <td>56946.75</td>\n",
       "      <td>135837.5</td>\n",
       "      <td>-2.345684</td>\n",
       "      <td>23239.25</td>\n",
       "      <td>0.210127</td>\n",
       "    </tr>\n",
       "    <tr>\n",
       "      <th>3</th>\n",
       "      <td>2010-05-17</td>\n",
       "      <td>51829.75</td>\n",
       "      <td>136225.0</td>\n",
       "      <td>-0.473023</td>\n",
       "      <td>26597.00</td>\n",
       "      <td>0.203685</td>\n",
       "    </tr>\n",
       "    <tr>\n",
       "      <th>4</th>\n",
       "      <td>2010-05-18</td>\n",
       "      <td>93281.00</td>\n",
       "      <td>140650.0</td>\n",
       "      <td>1.299365</td>\n",
       "      <td>43176.25</td>\n",
       "      <td>0.207569</td>\n",
       "    </tr>\n",
       "    <tr>\n",
       "      <th>...</th>\n",
       "      <td>...</td>\n",
       "      <td>...</td>\n",
       "      <td>...</td>\n",
       "      <td>...</td>\n",
       "      <td>...</td>\n",
       "      <td>...</td>\n",
       "    </tr>\n",
       "    <tr>\n",
       "      <th>2995</th>\n",
       "      <td>2022-07-04</td>\n",
       "      <td>119710.20</td>\n",
       "      <td>199030.0</td>\n",
       "      <td>0.332322</td>\n",
       "      <td>29208.60</td>\n",
       "      <td>0.464094</td>\n",
       "    </tr>\n",
       "    <tr>\n",
       "      <th>2996</th>\n",
       "      <td>2022-07-05</td>\n",
       "      <td>119137.60</td>\n",
       "      <td>198250.0</td>\n",
       "      <td>-0.642934</td>\n",
       "      <td>47426.20</td>\n",
       "      <td>0.455375</td>\n",
       "    </tr>\n",
       "    <tr>\n",
       "      <th>2997</th>\n",
       "      <td>2022-07-06</td>\n",
       "      <td>104889.40</td>\n",
       "      <td>197660.0</td>\n",
       "      <td>0.165308</td>\n",
       "      <td>24833.00</td>\n",
       "      <td>0.455939</td>\n",
       "    </tr>\n",
       "    <tr>\n",
       "      <th>2998</th>\n",
       "      <td>2022-07-07</td>\n",
       "      <td>63088.40</td>\n",
       "      <td>197790.0</td>\n",
       "      <td>0.501700</td>\n",
       "      <td>41801.00</td>\n",
       "      <td>0.462412</td>\n",
       "    </tr>\n",
       "    <tr>\n",
       "      <th>2999</th>\n",
       "      <td>2022-07-08</td>\n",
       "      <td>79496.60</td>\n",
       "      <td>196530.0</td>\n",
       "      <td>-0.394951</td>\n",
       "      <td>23997.00</td>\n",
       "      <td>0.457368</td>\n",
       "    </tr>\n",
       "  </tbody>\n",
       "</table>\n",
       "<p>3000 rows × 6 columns</p>\n",
       "</div>"
      ],
      "text/plain": [
       "             일자        거래량        종가       등락률     거래변동량    정규화_종가\n",
       "0    2010-05-12   37377.50  139200.0  0.000000      0.00  0.224956\n",
       "1    2010-05-13   39789.50  139800.0  0.352270  11989.00  0.225829\n",
       "2    2010-05-14   56946.75  135837.5 -2.345684  23239.25  0.210127\n",
       "3    2010-05-17   51829.75  136225.0 -0.473023  26597.00  0.203685\n",
       "4    2010-05-18   93281.00  140650.0  1.299365  43176.25  0.207569\n",
       "...         ...        ...       ...       ...       ...       ...\n",
       "2995 2022-07-04  119710.20  199030.0  0.332322  29208.60  0.464094\n",
       "2996 2022-07-05  119137.60  198250.0 -0.642934  47426.20  0.455375\n",
       "2997 2022-07-06  104889.40  197660.0  0.165308  24833.00  0.455939\n",
       "2998 2022-07-07   63088.40  197790.0  0.501700  41801.00  0.462412\n",
       "2999 2022-07-08   79496.60  196530.0 -0.394951  23997.00  0.457368\n",
       "\n",
       "[3000 rows x 6 columns]"
      ]
     },
     "execution_count": 10,
     "metadata": {},
     "output_type": "execute_result"
    }
   ],
   "source": [
    "df_mean_sector['Food']"
   ]
  },
  {
   "cell_type": "markdown",
   "id": "5119643d",
   "metadata": {},
   "source": [
    "# 섹션별 데이터와 코스피 지수 합치기"
   ]
  },
  {
   "cell_type": "code",
   "execution_count": 12,
   "id": "9550f0dd",
   "metadata": {},
   "outputs": [],
   "source": [
    "result = {}\n",
    "for sector_name, df in df_mean_sector.items():\n",
    "    result[sector_name] =pd.merge(df,kospi,on='일자',how='left')\n",
    "    "
   ]
  },
  {
   "cell_type": "code",
   "execution_count": 17,
   "id": "a56ca43e",
   "metadata": {},
   "outputs": [],
   "source": [
    "with open('result.pickle','wb') as f:\n",
    "    pickle.dump(result,f)"
   ]
  },
  {
   "cell_type": "code",
   "execution_count": null,
   "id": "35f089ff",
   "metadata": {},
   "outputs": [],
   "source": []
  }
 ],
 "metadata": {
  "kernelspec": {
   "display_name": "Python 3 (ipykernel)",
   "language": "python",
   "name": "python3"
  },
  "language_info": {
   "codemirror_mode": {
    "name": "ipython",
    "version": 3
   },
   "file_extension": ".py",
   "mimetype": "text/x-python",
   "name": "python",
   "nbconvert_exporter": "python",
   "pygments_lexer": "ipython3",
   "version": "3.7.13"
  }
 },
 "nbformat": 4,
 "nbformat_minor": 5
}
