{
 "cells": [
  {
   "cell_type": "code",
   "execution_count": 1,
   "id": "3dbdcb3d",
   "metadata": {},
   "outputs": [
    {
     "data": {
      "text/plain": [
       "<Response [200]>"
      ]
     },
     "execution_count": 1,
     "metadata": {},
     "output_type": "execute_result"
    }
   ],
   "source": [
    "import requests\n",
    "from bs4 import BeautifulSoup\n",
    "\n",
    "baseurl = \"https://finance.naver.com\"\n",
    "url = \"https://finance.naver.com/item/sise.nhn?code=005930\"\n",
    "\n",
    "resp = requests.get(url)\n",
    "resp"
   ]
  },
  {
   "cell_type": "code",
   "execution_count": 2,
   "id": "c1e1d19b",
   "metadata": {},
   "outputs": [],
   "source": [
    "soup = BeautifulSoup(resp.text,'html.parser')\n"
   ]
  },
  {
   "cell_type": "code",
   "execution_count": 3,
   "id": "b50c6dee",
   "metadata": {},
   "outputs": [
    {
     "data": {
      "text/plain": [
       "<iframe bottommargin=\"0\" frameborder=\"0\" height=\"360\" marginheight=\"0\" name=\"day\" scrolling=\"no\" src=\"/item/sise_time.naver?code=005930&amp;thistime=20220627161132\" style=\"margin-top:20px;clear:both\" title=\"주요 시세\" topmargin=\"0\" width=\"100%\"></iframe>"
      ]
     },
     "execution_count": 3,
     "metadata": {},
     "output_type": "execute_result"
    }
   ],
   "source": [
    "iframe_tag = soup.find('iframe',{'name':'day'})\n",
    "iframe_tag"
   ]
  },
  {
   "cell_type": "code",
   "execution_count": 4,
   "id": "1cb3d183",
   "metadata": {},
   "outputs": [
    {
     "data": {
      "text/plain": [
       "'https://finance.naver.com/item/sise_time.naver?code=005930&thistime=20220627161132'"
      ]
     },
     "execution_count": 4,
     "metadata": {},
     "output_type": "execute_result"
    }
   ],
   "source": [
    "iframe_url = iframe_tag.get('src')\n",
    "iframe_url = baseurl+iframe_url\n",
    "iframe_url"
   ]
  },
  {
   "cell_type": "code",
   "execution_count": 5,
   "id": "60c7e88b",
   "metadata": {},
   "outputs": [
    {
     "data": {
      "text/plain": [
       "{'date': 'Mon, 27 Jun 2022 17:22:53 GMT', 'set-cookie': 'JSESSIONID=39EEBE3722BA6061DDC2B7D19871425D; Path=/; HttpOnly', 'vary': 'Accept-Encoding,User-Agent', 'content-encoding': 'gzip', 'referrer-policy': 'unsafe-url', 'transfer-encoding': 'chunked', 'content-type': 'text/html;charset=EUC-KR', 'x-xss-protection': '1; mode=block', 'strict-transport-security': 'max-age=31536000; includeSubDomains', 'server': 'nfront'}"
      ]
     },
     "execution_count": 5,
     "metadata": {},
     "output_type": "execute_result"
    }
   ],
   "source": [
    "resp1 = requests.get(iframe_url)\n",
    "resp1.headers"
   ]
  },
  {
   "cell_type": "raw",
   "id": "36639a3c",
   "metadata": {},
   "source": [
    "iframe을 크롤링하는 경우 봇 차단을 위해서 크롤링이 제한된다.\n",
    "고로 "
   ]
  },
  {
   "cell_type": "code",
   "execution_count": 6,
   "id": "3dae8ec5",
   "metadata": {},
   "outputs": [
    {
     "data": {
      "text/plain": [
       "{'date': 'Mon, 27 Jun 2022 17:22:53 GMT', 'cache-control': 'no-cache', 'expires': 'Thu, 01 Jan 1970 00:00:00 GMT', 'set-cookie': 'JSESSIONID=713341CD2BA1D41F4FB93359E7BDA615; Path=/; HttpOnly', 'content-language': 'ko', 'vary': 'Accept-Encoding,User-Agent', 'content-encoding': 'gzip', 'referrer-policy': 'unsafe-url', 'transfer-encoding': 'chunked', 'content-type': 'text/html;charset=EUC-KR', 'x-xss-protection': '1; mode=block', 'strict-transport-security': 'max-age=31536000; includeSubDomains', 'server': 'nfront'}"
      ]
     },
     "execution_count": 6,
     "metadata": {},
     "output_type": "execute_result"
    }
   ],
   "source": [
    "headers = {'User-Agent': 'Mozilla/5.0 (Windows NT 10.0; Win64; x64) AppleWebKit/537.36 (KHTML, like Gecko) Chrome/103.0.5060.53 Safari/537.36 Edg/103.0.1264.37'}\n",
    "resp1 = requests.get(iframe_url,headers=headers)\n",
    "resp1.headers\n",
    "\n",
    "\n"
   ]
  },
  {
   "cell_type": "code",
   "execution_count": 7,
   "id": "e8af2599",
   "metadata": {},
   "outputs": [],
   "source": [
    "soup = BeautifulSoup(resp1.text,'html.parser')"
   ]
  },
  {
   "cell_type": "code",
   "execution_count": 8,
   "id": "e19b4fb9",
   "metadata": {},
   "outputs": [
    {
     "data": {
      "text/plain": [
       "['체결시각', '체결가', '전일비', '매도', '매수', '거래량', '변동량']"
      ]
     },
     "execution_count": 8,
     "metadata": {},
     "output_type": "execute_result"
    }
   ],
   "source": [
    "columns = []\n",
    "columns_tag = soup.select('tr th')\n",
    "for i in columns_tag:\n",
    "    columns.append(i.text)\n",
    "columns"
   ]
  },
  {
   "cell_type": "code",
   "execution_count": 9,
   "id": "8ca9bcb8",
   "metadata": {},
   "outputs": [
    {
     "data": {
      "text/html": [
       "<div>\n",
       "<style scoped>\n",
       "    .dataframe tbody tr th:only-of-type {\n",
       "        vertical-align: middle;\n",
       "    }\n",
       "\n",
       "    .dataframe tbody tr th {\n",
       "        vertical-align: top;\n",
       "    }\n",
       "\n",
       "    .dataframe thead th {\n",
       "        text-align: right;\n",
       "    }\n",
       "</style>\n",
       "<table border=\"1\" class=\"dataframe\">\n",
       "  <thead>\n",
       "    <tr style=\"text-align: right;\">\n",
       "      <th></th>\n",
       "      <th>체결시각</th>\n",
       "      <th>체결가</th>\n",
       "      <th>전일비</th>\n",
       "      <th>매도</th>\n",
       "      <th>매수</th>\n",
       "      <th>거래량</th>\n",
       "      <th>변동량</th>\n",
       "    </tr>\n",
       "  </thead>\n",
       "  <tbody>\n",
       "  </tbody>\n",
       "</table>\n",
       "</div>"
      ],
      "text/plain": [
       "Empty DataFrame\n",
       "Columns: [체결시각, 체결가, 전일비, 매도, 매수, 거래량, 변동량]\n",
       "Index: []"
      ]
     },
     "execution_count": 9,
     "metadata": {},
     "output_type": "execute_result"
    }
   ],
   "source": [
    "import pandas as pd\n",
    "data = pd.DataFrame(columns=columns)\n",
    "data"
   ]
  },
  {
   "cell_type": "code",
   "execution_count": 10,
   "id": "bf559ca1",
   "metadata": {},
   "outputs": [],
   "source": [
    "quote_tags = soup.find_all('tr', onmouseover=\"mouseOver(this)\")"
   ]
  },
  {
   "cell_type": "code",
   "execution_count": 11,
   "id": "37041f33",
   "metadata": {},
   "outputs": [
    {
     "data": {
      "text/plain": [
       "<tr onmouseout=\"mouseOut(this)\" onmouseover=\"mouseOver(this)\">\n",
       "<td align=\"center\"><span class=\"tah p10 gray03\">15:58</span></td>\n",
       "<td class=\"num\"><span class=\"tah p11\">58,800</span></td>\n",
       "<td class=\"num\">\n",
       "<img alt=\"상승\" height=\"6\" src=\"https://ssl.pstatic.net/imgstock/images/images4/ico_up.gif\" style=\"margin-right:4px;\" width=\"7\"/><span class=\"tah p11 red02\">\n",
       "\t\t\t\t400\n",
       "\t\t\t\t</span>\n",
       "</td>\n",
       "<td class=\"num\"><span class=\"tah p11\">58,900</span></td>\n",
       "<td class=\"num\"><span class=\"tah p11\">58,800</span></td>\n",
       "<td class=\"num\"><span class=\"tah p11\">17,894,851</span></td>\n",
       "<td class=\"num\"><span class=\"tah p11\">167</span></td>\n",
       "</tr>"
      ]
     },
     "execution_count": 11,
     "metadata": {},
     "output_type": "execute_result"
    }
   ],
   "source": [
    "quote_tags[0]"
   ]
  },
  {
   "cell_type": "code",
   "execution_count": 12,
   "id": "6e961ba9",
   "metadata": {},
   "outputs": [],
   "source": [
    "\n",
    "for raw in quote_tags:\n",
    "    record = []\n",
    "    #각 raw의 체결 시각 구하기\n",
    "    time = raw.select_one('.tah.p10.gray03').text\n",
    "    #각 raw의 체결가 구하기\n",
    "    Multidata = raw.select('span.tah.p11')\n",
    "    fill_price = Multidata[0].text.strip()\n",
    "    sell_price = Multidata[1].text.strip()\n",
    "    buy_price = Multidata[2].text.strip()\n",
    "    trading_vol = Multidata[3].text.strip()\n",
    "    volatility = Multidata[4].text.strip()\n",
    "    # 각 raw의 전일비 구하기    \n",
    "    ratio = raw.select_one('.tah.p11.red02').text.strip()\n",
    "    record = [time, fill_price,ratio,sell_price,buy_price,trading_vol,volatility]\n",
    "    data.loc[len(data)] = record"
   ]
  },
  {
   "cell_type": "code",
   "execution_count": 13,
   "id": "f7f01d8f",
   "metadata": {},
   "outputs": [
    {
     "data": {
      "text/html": [
       "<div>\n",
       "<style scoped>\n",
       "    .dataframe tbody tr th:only-of-type {\n",
       "        vertical-align: middle;\n",
       "    }\n",
       "\n",
       "    .dataframe tbody tr th {\n",
       "        vertical-align: top;\n",
       "    }\n",
       "\n",
       "    .dataframe thead th {\n",
       "        text-align: right;\n",
       "    }\n",
       "</style>\n",
       "<table border=\"1\" class=\"dataframe\">\n",
       "  <thead>\n",
       "    <tr style=\"text-align: right;\">\n",
       "      <th></th>\n",
       "      <th>체결시각</th>\n",
       "      <th>체결가</th>\n",
       "      <th>전일비</th>\n",
       "      <th>매도</th>\n",
       "      <th>매수</th>\n",
       "      <th>거래량</th>\n",
       "      <th>변동량</th>\n",
       "    </tr>\n",
       "  </thead>\n",
       "  <tbody>\n",
       "    <tr>\n",
       "      <th>0</th>\n",
       "      <td>15:58</td>\n",
       "      <td>58,800</td>\n",
       "      <td>400</td>\n",
       "      <td>400</td>\n",
       "      <td>58,900</td>\n",
       "      <td>58,800</td>\n",
       "      <td>17,894,851</td>\n",
       "    </tr>\n",
       "    <tr>\n",
       "      <th>1</th>\n",
       "      <td>15:57</td>\n",
       "      <td>58,800</td>\n",
       "      <td>400</td>\n",
       "      <td>400</td>\n",
       "      <td>58,900</td>\n",
       "      <td>58,800</td>\n",
       "      <td>17,894,684</td>\n",
       "    </tr>\n",
       "    <tr>\n",
       "      <th>2</th>\n",
       "      <td>15:56</td>\n",
       "      <td>58,800</td>\n",
       "      <td>400</td>\n",
       "      <td>400</td>\n",
       "      <td>58,900</td>\n",
       "      <td>58,800</td>\n",
       "      <td>17,892,566</td>\n",
       "    </tr>\n",
       "    <tr>\n",
       "      <th>3</th>\n",
       "      <td>15:55</td>\n",
       "      <td>58,800</td>\n",
       "      <td>400</td>\n",
       "      <td>400</td>\n",
       "      <td>58,900</td>\n",
       "      <td>58,800</td>\n",
       "      <td>17,892,544</td>\n",
       "    </tr>\n",
       "    <tr>\n",
       "      <th>4</th>\n",
       "      <td>15:54</td>\n",
       "      <td>58,800</td>\n",
       "      <td>400</td>\n",
       "      <td>400</td>\n",
       "      <td>58,900</td>\n",
       "      <td>58,800</td>\n",
       "      <td>17,891,478</td>\n",
       "    </tr>\n",
       "    <tr>\n",
       "      <th>5</th>\n",
       "      <td>15:53</td>\n",
       "      <td>58,800</td>\n",
       "      <td>400</td>\n",
       "      <td>400</td>\n",
       "      <td>58,900</td>\n",
       "      <td>58,800</td>\n",
       "      <td>17,890,915</td>\n",
       "    </tr>\n",
       "    <tr>\n",
       "      <th>6</th>\n",
       "      <td>15:52</td>\n",
       "      <td>58,800</td>\n",
       "      <td>400</td>\n",
       "      <td>400</td>\n",
       "      <td>58,900</td>\n",
       "      <td>58,800</td>\n",
       "      <td>17,890,871</td>\n",
       "    </tr>\n",
       "    <tr>\n",
       "      <th>7</th>\n",
       "      <td>15:51</td>\n",
       "      <td>58,800</td>\n",
       "      <td>400</td>\n",
       "      <td>400</td>\n",
       "      <td>58,900</td>\n",
       "      <td>58,800</td>\n",
       "      <td>17,890,867</td>\n",
       "    </tr>\n",
       "    <tr>\n",
       "      <th>8</th>\n",
       "      <td>15:50</td>\n",
       "      <td>58,800</td>\n",
       "      <td>400</td>\n",
       "      <td>400</td>\n",
       "      <td>58,900</td>\n",
       "      <td>58,800</td>\n",
       "      <td>17,890,761</td>\n",
       "    </tr>\n",
       "    <tr>\n",
       "      <th>9</th>\n",
       "      <td>15:49</td>\n",
       "      <td>58,800</td>\n",
       "      <td>400</td>\n",
       "      <td>400</td>\n",
       "      <td>58,900</td>\n",
       "      <td>58,800</td>\n",
       "      <td>17,890,739</td>\n",
       "    </tr>\n",
       "  </tbody>\n",
       "</table>\n",
       "</div>"
      ],
      "text/plain": [
       "    체결시각     체결가  전일비   매도      매수     거래량         변동량\n",
       "0  15:58  58,800  400  400  58,900  58,800  17,894,851\n",
       "1  15:57  58,800  400  400  58,900  58,800  17,894,684\n",
       "2  15:56  58,800  400  400  58,900  58,800  17,892,566\n",
       "3  15:55  58,800  400  400  58,900  58,800  17,892,544\n",
       "4  15:54  58,800  400  400  58,900  58,800  17,891,478\n",
       "5  15:53  58,800  400  400  58,900  58,800  17,890,915\n",
       "6  15:52  58,800  400  400  58,900  58,800  17,890,871\n",
       "7  15:51  58,800  400  400  58,900  58,800  17,890,867\n",
       "8  15:50  58,800  400  400  58,900  58,800  17,890,761\n",
       "9  15:49  58,800  400  400  58,900  58,800  17,890,739"
      ]
     },
     "execution_count": 13,
     "metadata": {},
     "output_type": "execute_result"
    }
   ],
   "source": [
    "data"
   ]
  },
  {
   "cell_type": "code",
   "execution_count": 14,
   "id": "97b339ef",
   "metadata": {},
   "outputs": [],
   "source": [
    "data.to_csv('stock_price.csv')"
   ]
  },
  {
   "cell_type": "code",
   "execution_count": null,
   "id": "6b103498",
   "metadata": {},
   "outputs": [],
   "source": []
  }
 ],
 "metadata": {
  "kernelspec": {
   "display_name": "Python 3 (ipykernel)",
   "language": "python",
   "name": "python3"
  },
  "language_info": {
   "codemirror_mode": {
    "name": "ipython",
    "version": 3
   },
   "file_extension": ".py",
   "mimetype": "text/x-python",
   "name": "python",
   "nbconvert_exporter": "python",
   "pygments_lexer": "ipython3",
   "version": "3.9.12"
  }
 },
 "nbformat": 4,
 "nbformat_minor": 5
}
