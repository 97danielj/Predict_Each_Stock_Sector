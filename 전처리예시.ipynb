{
 "cells": [
  {
   "cell_type": "markdown",
   "id": "40862cab",
   "metadata": {},
   "source": [
    "# API 접속"
   ]
  },
  {
   "cell_type": "code",
   "execution_count": 1,
   "id": "0ed2b9e9",
   "metadata": {},
   "outputs": [],
   "source": [
    "from pykiwoom.kiwoom import *\n",
    "import time\n",
    "import pandas as pd"
   ]
  },
  {
   "cell_type": "code",
   "execution_count": 2,
   "id": "2fea30d2",
   "metadata": {},
   "outputs": [
    {
     "name": "stdout",
     "output_type": "stream",
     "text": [
      "로그인중\n",
      "로그인 완료\n"
     ]
    }
   ],
   "source": [
    "#로그인\n",
    "kiwoom = Kiwoom()\n",
    "print(\"로그인중\")\n",
    "kiwoom.CommConnect(block=True)\n",
    "print((\"로그인 완료\"))"
   ]
  },
  {
   "cell_type": "code",
   "execution_count": 3,
   "id": "240c187d",
   "metadata": {},
   "outputs": [
    {
     "name": "stdout",
     "output_type": "stream",
     "text": [
      "연결됨\n"
     ]
    }
   ],
   "source": [
    "#연결\n",
    "state = kiwoom.GetConnectState()\n",
    "if state == 0:\n",
    "    print('연결되지않음')\n",
    "elif state == 1:\n",
    "    print(\"연결됨\")"
   ]
  },
  {
   "cell_type": "code",
   "execution_count": 4,
   "id": "1cdb191e",
   "metadata": {},
   "outputs": [],
   "source": [
    "#로그인정보\n",
    "account_num = kiwoom.GetLoginInfo(\"ACCOUNT_CNT\")        # 전체 계좌수\n",
    "accounts = kiwoom.GetLoginInfo(\"ACCNO\")                 # 전체 계좌 리스트\n",
    "user_id = kiwoom.GetLoginInfo(\"USER_ID\")                # 사용자 ID\n",
    "user_name = kiwoom.GetLoginInfo(\"USER_NAME\")            # 사용자명\n",
    "keyboard = kiwoom.GetLoginInfo(\"KEY_BSECGB\")            # 키보드보안 해지여부\n",
    "firewall = kiwoom.GetLoginInfo(\"FIREW_SECGB\")           # 방화벽 설정 여부\n",
    "# print(account_num)\n",
    "# print(accounts)\n",
    "# print(user_id)\n",
    "# print(user_name)\n",
    "# print(keyboard)\n",
    "# print(firewall)"
   ]
  },
  {
   "cell_type": "code",
   "execution_count": null,
   "id": "ce178f15",
   "metadata": {},
   "outputs": [],
   "source": []
  },
  {
   "cell_type": "code",
   "execution_count": null,
   "id": "f9d6c990",
   "metadata": {},
   "outputs": [],
   "source": []
  },
  {
   "cell_type": "markdown",
   "id": "5a62e233",
   "metadata": {},
   "source": [
    "# 일봉데이터 수집"
   ]
  },
  {
   "cell_type": "code",
   "execution_count": 5,
   "id": "579eccc4",
   "metadata": {},
   "outputs": [
    {
     "name": "stdout",
     "output_type": "stream",
     "text": [
      "CommRqData opt10081 opt10081 0 0101\n"
     ]
    }
   ],
   "source": [
    "df_multi = kiwoom.block_request('opt10081',\n",
    "                                 종목코드 = '035720',\n",
    "                                 기준일자 = '20220706',\n",
    "                                 수정주가구분 = 1,\n",
    "                                 output = '주식일봉차트조회',\n",
    "                                 next=0\n",
    "                                 )"
   ]
  },
  {
   "cell_type": "code",
   "execution_count": null,
   "id": "0375e61e",
   "metadata": {},
   "outputs": [],
   "source": []
  },
  {
   "cell_type": "code",
   "execution_count": null,
   "id": "da9b1f89",
   "metadata": {},
   "outputs": [],
   "source": []
  },
  {
   "cell_type": "markdown",
   "id": "bd90ea93",
   "metadata": {},
   "source": [
    "# 필요한 데이터만 가져오기"
   ]
  },
  {
   "cell_type": "code",
   "execution_count": 6,
   "id": "2dd5addb",
   "metadata": {
    "scrolled": true
   },
   "outputs": [],
   "source": [
    "df = pd.DataFrame()\n",
    "df['일자'] = pd.to_datetime(df_multi['일자'])\n",
    "df['종가'] = df_multi['현재가'].astype(int)\n",
    "df['거래량'] = df_multi['거래량'].astype(int)"
   ]
  },
  {
   "cell_type": "code",
   "execution_count": 7,
   "id": "0258d681",
   "metadata": {
    "scrolled": false
   },
   "outputs": [
    {
     "name": "stdout",
     "output_type": "stream",
     "text": [
      "<class 'pandas.core.frame.DataFrame'>\n",
      "RangeIndex: 600 entries, 0 to 599\n",
      "Data columns (total 3 columns):\n",
      " #   Column  Non-Null Count  Dtype         \n",
      "---  ------  --------------  -----         \n",
      " 0   일자      600 non-null    datetime64[ns]\n",
      " 1   종가      600 non-null    int32         \n",
      " 2   거래량     600 non-null    int32         \n",
      "dtypes: datetime64[ns](1), int32(2)\n",
      "memory usage: 9.4 KB\n"
     ]
    }
   ],
   "source": [
    "df.info()"
   ]
  },
  {
   "cell_type": "code",
   "execution_count": null,
   "id": "b1714380",
   "metadata": {},
   "outputs": [],
   "source": []
  },
  {
   "cell_type": "code",
   "execution_count": null,
   "id": "04225aaf",
   "metadata": {},
   "outputs": [],
   "source": []
  },
  {
   "cell_type": "markdown",
   "id": "14daf6c8",
   "metadata": {},
   "source": [
    "# 등락률 계산"
   ]
  },
  {
   "cell_type": "code",
   "execution_count": 8,
   "id": "0dbf2fb4",
   "metadata": {
    "scrolled": true
   },
   "outputs": [],
   "source": [
    "#등락률 계산 : 일 등락률 = (오늘종가 – 어제종가) / 어제종가 * 100 => 평균\n",
    "등락률 = []\n",
    "for i in range(len(df['종가'])):\n",
    "    if i == len(df['종가'])-1:\n",
    "        break\n",
    "    else:    \n",
    "        등락률.append((df['종가'][i]-df['종가'][i+1])/df['종가'][i+1]*100)\n",
    "등락률.append(0)"
   ]
  },
  {
   "cell_type": "code",
   "execution_count": 9,
   "id": "dffc5435",
   "metadata": {},
   "outputs": [],
   "source": [
    "df['등락률']=등락률"
   ]
  },
  {
   "cell_type": "code",
   "execution_count": null,
   "id": "7f7f2bba",
   "metadata": {},
   "outputs": [],
   "source": []
  },
  {
   "cell_type": "code",
   "execution_count": null,
   "id": "3afd999c",
   "metadata": {},
   "outputs": [],
   "source": []
  },
  {
   "cell_type": "markdown",
   "id": "6e22a16e",
   "metadata": {},
   "source": [
    "# 거래변동량 계산"
   ]
  },
  {
   "cell_type": "code",
   "execution_count": 10,
   "id": "8c0ba9e0",
   "metadata": {},
   "outputs": [],
   "source": [
    "#거래변동량 계산 : 오늘거래량 - 어제거래량\n",
    "거래변동량 = []\n",
    "for i in range(len(df['거래량'])):\n",
    "    if i == len(df['거래량'])-1:\n",
    "        break\n",
    "    else:    \n",
    "        거래변동량.append(abs((df['거래량'][i]-df['거래량'][i+1])))\n",
    "거래변동량.append(0)"
   ]
  },
  {
   "cell_type": "code",
   "execution_count": 11,
   "id": "cb685ae6",
   "metadata": {},
   "outputs": [],
   "source": [
    "df['거래변동량']=거래변동량"
   ]
  },
  {
   "cell_type": "code",
   "execution_count": null,
   "id": "94149617",
   "metadata": {},
   "outputs": [],
   "source": []
  },
  {
   "cell_type": "code",
   "execution_count": null,
   "id": "5855860c",
   "metadata": {},
   "outputs": [],
   "source": []
  },
  {
   "cell_type": "markdown",
   "id": "bee9ba61",
   "metadata": {},
   "source": [
    "# 종가 data 정규화"
   ]
  },
  {
   "cell_type": "code",
   "execution_count": 12,
   "id": "d4b7eac1",
   "metadata": {},
   "outputs": [],
   "source": [
    "#종가 data 정규화 MinMaxScaler()\n",
    "from sklearn.preprocessing import MinMaxScaler"
   ]
  },
  {
   "cell_type": "code",
   "execution_count": 13,
   "id": "33a29f6b",
   "metadata": {},
   "outputs": [],
   "source": [
    "df_종가 = pd.DataFrame()\n",
    "df_종가['종가'] = df['종가']"
   ]
  },
  {
   "cell_type": "code",
   "execution_count": 14,
   "id": "fceb1e56",
   "metadata": {},
   "outputs": [],
   "source": [
    "scaler = MinMaxScaler()\n",
    "scaler.fit(df_종가)\n",
    "df_scaled = scaler.transform(df_종가)"
   ]
  },
  {
   "cell_type": "code",
   "execution_count": 15,
   "id": "cc34ac6c",
   "metadata": {
    "scrolled": true
   },
   "outputs": [],
   "source": [
    "df_종가_scaled = pd.DataFrame(data = df_scaled)"
   ]
  },
  {
   "cell_type": "code",
   "execution_count": 16,
   "id": "2db47e7e",
   "metadata": {},
   "outputs": [
    {
     "data": {
      "text/plain": [
       "0    0.0\n",
       "dtype: float64"
      ]
     },
     "execution_count": 16,
     "metadata": {},
     "output_type": "execute_result"
    }
   ],
   "source": [
    "df_종가_scaled.min()"
   ]
  },
  {
   "cell_type": "code",
   "execution_count": 17,
   "id": "eec6722b",
   "metadata": {},
   "outputs": [
    {
     "data": {
      "text/plain": [
       "0    1.0\n",
       "dtype: float64"
      ]
     },
     "execution_count": 17,
     "metadata": {},
     "output_type": "execute_result"
    }
   ],
   "source": [
    "df_종가_scaled.max()"
   ]
  },
  {
   "cell_type": "code",
   "execution_count": 18,
   "id": "2573a9a6",
   "metadata": {},
   "outputs": [
    {
     "data": {
      "text/html": [
       "<div>\n",
       "<style scoped>\n",
       "    .dataframe tbody tr th:only-of-type {\n",
       "        vertical-align: middle;\n",
       "    }\n",
       "\n",
       "    .dataframe tbody tr th {\n",
       "        vertical-align: top;\n",
       "    }\n",
       "\n",
       "    .dataframe thead th {\n",
       "        text-align: right;\n",
       "    }\n",
       "</style>\n",
       "<table border=\"1\" class=\"dataframe\">\n",
       "  <thead>\n",
       "    <tr style=\"text-align: right;\">\n",
       "      <th></th>\n",
       "      <th>일자</th>\n",
       "      <th>종가</th>\n",
       "      <th>거래량</th>\n",
       "      <th>등락률</th>\n",
       "      <th>거래변동량</th>\n",
       "      <th>정규화_종가</th>\n",
       "    </tr>\n",
       "  </thead>\n",
       "  <tbody>\n",
       "    <tr>\n",
       "      <th>0</th>\n",
       "      <td>2022-07-06</td>\n",
       "      <td>73500</td>\n",
       "      <td>2724220</td>\n",
       "      <td>2.083333</td>\n",
       "      <td>598532</td>\n",
       "      <td>0.326817</td>\n",
       "    </tr>\n",
       "    <tr>\n",
       "      <th>1</th>\n",
       "      <td>2022-07-05</td>\n",
       "      <td>72000</td>\n",
       "      <td>2125688</td>\n",
       "      <td>5.726872</td>\n",
       "      <td>1106517</td>\n",
       "      <td>0.316298</td>\n",
       "    </tr>\n",
       "    <tr>\n",
       "      <th>2</th>\n",
       "      <td>2022-07-04</td>\n",
       "      <td>68100</td>\n",
       "      <td>1019171</td>\n",
       "      <td>1.188707</td>\n",
       "      <td>798105</td>\n",
       "      <td>0.288950</td>\n",
       "    </tr>\n",
       "    <tr>\n",
       "      <th>3</th>\n",
       "      <td>2022-07-01</td>\n",
       "      <td>67300</td>\n",
       "      <td>1817276</td>\n",
       "      <td>-3.719599</td>\n",
       "      <td>478245</td>\n",
       "      <td>0.283340</td>\n",
       "    </tr>\n",
       "    <tr>\n",
       "      <th>4</th>\n",
       "      <td>2022-06-30</td>\n",
       "      <td>69900</td>\n",
       "      <td>1339031</td>\n",
       "      <td>-1.271186</td>\n",
       "      <td>153560</td>\n",
       "      <td>0.301572</td>\n",
       "    </tr>\n",
       "    <tr>\n",
       "      <th>...</th>\n",
       "      <td>...</td>\n",
       "      <td>...</td>\n",
       "      <td>...</td>\n",
       "      <td>...</td>\n",
       "      <td>...</td>\n",
       "      <td>...</td>\n",
       "    </tr>\n",
       "    <tr>\n",
       "      <th>595</th>\n",
       "      <td>2020-02-10</td>\n",
       "      <td>33918</td>\n",
       "      <td>1869502</td>\n",
       "      <td>0.895380</td>\n",
       "      <td>731893</td>\n",
       "      <td>0.049255</td>\n",
       "    </tr>\n",
       "    <tr>\n",
       "      <th>596</th>\n",
       "      <td>2020-02-07</td>\n",
       "      <td>33617</td>\n",
       "      <td>2601395</td>\n",
       "      <td>0.903470</td>\n",
       "      <td>149198</td>\n",
       "      <td>0.047144</td>\n",
       "    </tr>\n",
       "    <tr>\n",
       "      <th>597</th>\n",
       "      <td>2020-02-06</td>\n",
       "      <td>33316</td>\n",
       "      <td>2750593</td>\n",
       "      <td>1.840191</td>\n",
       "      <td>473792</td>\n",
       "      <td>0.045033</td>\n",
       "    </tr>\n",
       "    <tr>\n",
       "      <th>598</th>\n",
       "      <td>2020-02-05</td>\n",
       "      <td>32714</td>\n",
       "      <td>2276801</td>\n",
       "      <td>-0.911707</td>\n",
       "      <td>309820</td>\n",
       "      <td>0.040812</td>\n",
       "    </tr>\n",
       "    <tr>\n",
       "      <th>599</th>\n",
       "      <td>2020-02-04</td>\n",
       "      <td>33015</td>\n",
       "      <td>1966981</td>\n",
       "      <td>0.000000</td>\n",
       "      <td>0</td>\n",
       "      <td>0.042922</td>\n",
       "    </tr>\n",
       "  </tbody>\n",
       "</table>\n",
       "<p>600 rows × 6 columns</p>\n",
       "</div>"
      ],
      "text/plain": [
       "            일자     종가      거래량       등락률    거래변동량    정규화_종가\n",
       "0   2022-07-06  73500  2724220  2.083333   598532  0.326817\n",
       "1   2022-07-05  72000  2125688  5.726872  1106517  0.316298\n",
       "2   2022-07-04  68100  1019171  1.188707   798105  0.288950\n",
       "3   2022-07-01  67300  1817276 -3.719599   478245  0.283340\n",
       "4   2022-06-30  69900  1339031 -1.271186   153560  0.301572\n",
       "..         ...    ...      ...       ...      ...       ...\n",
       "595 2020-02-10  33918  1869502  0.895380   731893  0.049255\n",
       "596 2020-02-07  33617  2601395  0.903470   149198  0.047144\n",
       "597 2020-02-06  33316  2750593  1.840191   473792  0.045033\n",
       "598 2020-02-05  32714  2276801 -0.911707   309820  0.040812\n",
       "599 2020-02-04  33015  1966981  0.000000        0  0.042922\n",
       "\n",
       "[600 rows x 6 columns]"
      ]
     },
     "execution_count": 18,
     "metadata": {},
     "output_type": "execute_result"
    }
   ],
   "source": [
    "df['정규화_종가']=df_종가_scaled\n",
    "df"
   ]
  },
  {
   "cell_type": "code",
   "execution_count": null,
   "id": "d04154c5",
   "metadata": {},
   "outputs": [],
   "source": []
  },
  {
   "cell_type": "code",
   "execution_count": null,
   "id": "4d8b5f75",
   "metadata": {},
   "outputs": [],
   "source": []
  },
  {
   "cell_type": "code",
   "execution_count": null,
   "id": "d7e5b39e",
   "metadata": {},
   "outputs": [],
   "source": []
  },
  {
   "cell_type": "code",
   "execution_count": null,
   "id": "1fca4471",
   "metadata": {},
   "outputs": [],
   "source": []
  }
 ],
 "metadata": {
  "kernelspec": {
   "display_name": "Python 3 (ipykernel)",
   "language": "python",
   "name": "python3"
  },
  "language_info": {
   "codemirror_mode": {
    "name": "ipython",
    "version": 3
   },
   "file_extension": ".py",
   "mimetype": "text/x-python",
   "name": "python",
   "nbconvert_exporter": "python",
   "pygments_lexer": "ipython3",
   "version": "3.7.13"
  }
 },
 "nbformat": 4,
 "nbformat_minor": 5
}
