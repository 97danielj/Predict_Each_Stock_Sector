{
 "cells": [
  {
   "cell_type": "markdown",
   "metadata": {},
   "source": [
    "# 환경설정"
   ]
  },
  {
   "cell_type": "code",
   "execution_count": 35,
   "metadata": {},
   "outputs": [],
   "source": [
    "import pickle\n",
    "import numpy as np\n",
    "import pandas as pd\n",
    "import os\n",
    "import warnings\n",
    "warnings.filterwarnings('ignore')\n",
    "import matplotlib.pyplot as plt\n",
    "import tensorflow as tf"
   ]
  },
  {
   "cell_type": "code",
   "execution_count": 36,
   "metadata": {},
   "outputs": [],
   "source": [
    "with open('df_scaled_UTD.pickle','rb') as f:\n",
    "    df_scaled_UTD = pickle.load(f)\n",
    "with open('sector.pickle','rb') as f:\n",
    "    sector = pickle.load(f)"
   ]
  },
  {
   "cell_type": "markdown",
   "metadata": {},
   "source": [
    "## 파라미터 지정"
   ]
  },
  {
   "cell_type": "code",
   "execution_count": 37,
   "metadata": {},
   "outputs": [],
   "source": [
    "#윈도우 사이즈\n",
    "WINDOW_SIZE = 10\n",
    "# X에 대한 윈도우 함수 설정값\n",
    "X_size = WINDOW_SIZE\n",
    "X_shift = 10\n",
    "X_stride = 1\n",
    "# y에 대한 윈도우 함수 설정값\n",
    "y_size = 1\n",
    "y_shift = WINDOW_SIZE\n",
    "y_stride = 1\n",
    "\n",
    "batch_size = 1"
   ]
  },
  {
   "cell_type": "markdown",
   "metadata": {},
   "source": [
    "# 2. 모델 불러오기"
   ]
  },
  {
   "cell_type": "code",
   "execution_count": 38,
   "metadata": {},
   "outputs": [],
   "source": [
    "from tensorflow.keras.models import Sequential\n",
    "from tensorflow.keras.layers import Dense, LSTM, Conv1D, Lambda\n",
    "from tensorflow.keras.losses import Huber\n",
    "from tensorflow.keras.optimizers import Adam\n",
    "from tensorflow.keras.callbacks import EarlyStopping, ModelCheckpoint"
   ]
  },
  {
   "cell_type": "code",
   "execution_count": 39,
   "metadata": {},
   "outputs": [],
   "source": [
    "model_dic ={}\n",
    "for sector_name in sector.keys():\n",
    "    model_dic[sector_name] = Sequential([\n",
    "        # 1차원 feature map 생성\n",
    "        Conv1D(filters=32, kernel_size=5,\n",
    "               padding=\"causal\",\n",
    "               activation=\"relu\",\n",
    "               #feature의 개수 3개\n",
    "               input_shape=[WINDOW_SIZE, 4]),\n",
    "        # LSTM\n",
    "        LSTM(16, activation='tanh'),\n",
    "        Dense(16, activation=\"relu\"),\n",
    "        Dense(1),\n",
    "    ])"
   ]
  },
  {
   "cell_type": "code",
   "execution_count": 40,
   "metadata": {},
   "outputs": [],
   "source": [
    "with open('filename_dic.pickle', 'rb') as f:\n",
    "    filename_dic = pickle.load(f)"
   ]
  },
  {
   "cell_type": "code",
   "execution_count": 41,
   "metadata": {},
   "outputs": [
    {
     "data": {
      "text/plain": [
       "{'Food': 'Models\\\\Foodckeckpointer.ckpt',\n",
       " 'Clothing': 'Models\\\\Clothingckeckpointer.ckpt',\n",
       " 'Chemical': 'Models\\\\Chemicalckeckpointer.ckpt',\n",
       " 'Medicine': 'Models\\\\Medicineckeckpointer.ckpt',\n",
       " 'Non_Metal': 'Models\\\\Non_Metalckeckpointer.ckpt',\n",
       " 'Metal': 'Models\\\\Metalckeckpointer.ckpt',\n",
       " 'Machine': 'Models\\\\Machineckeckpointer.ckpt',\n",
       " 'Electronic': 'Models\\\\Electronicckeckpointer.ckpt',\n",
       " 'Construction': 'Models\\\\Constructionckeckpointer.ckpt',\n",
       " 'Transport': 'Models\\\\Transportckeckpointer.ckpt',\n",
       " 'Distribution': 'Models\\\\Distributionckeckpointer.ckpt',\n",
       " 'Power': 'Models\\\\Powerckeckpointer.ckpt',\n",
       " 'Tele': 'Models\\\\Teleckeckpointer.ckpt',\n",
       " 'Finance': 'Models\\\\Financeckeckpointer.ckpt',\n",
       " 'Brokerage': 'Models\\\\Brokerageckeckpointer.ckpt',\n",
       " 'Insurer': 'Models\\\\Insurerckeckpointer.ckpt',\n",
       " 'Service': 'Models\\\\Serviceckeckpointer.ckpt',\n",
       " 'Manufacturer': 'Models\\\\Manufacturerckeckpointer.ckpt'}"
      ]
     },
     "execution_count": 41,
     "metadata": {},
     "output_type": "execute_result"
    }
   ],
   "source": [
    "filename_dic"
   ]
  },
  {
   "cell_type": "code",
   "execution_count": 42,
   "metadata": {},
   "outputs": [],
   "source": [
    "for_linux = {}\n",
    "for sector_name in filename_dic:\n",
    "    for_linux[sector_name] = filename_dic[sector_name][7:]"
   ]
  },
  {
   "cell_type": "code",
   "execution_count": 43,
   "metadata": {},
   "outputs": [
    {
     "data": {
      "text/plain": [
       "{'Food': 'Foodckeckpointer.ckpt',\n",
       " 'Clothing': 'Clothingckeckpointer.ckpt',\n",
       " 'Chemical': 'Chemicalckeckpointer.ckpt',\n",
       " 'Medicine': 'Medicineckeckpointer.ckpt',\n",
       " 'Non_Metal': 'Non_Metalckeckpointer.ckpt',\n",
       " 'Metal': 'Metalckeckpointer.ckpt',\n",
       " 'Machine': 'Machineckeckpointer.ckpt',\n",
       " 'Electronic': 'Electronicckeckpointer.ckpt',\n",
       " 'Construction': 'Constructionckeckpointer.ckpt',\n",
       " 'Transport': 'Transportckeckpointer.ckpt',\n",
       " 'Distribution': 'Distributionckeckpointer.ckpt',\n",
       " 'Power': 'Powerckeckpointer.ckpt',\n",
       " 'Tele': 'Teleckeckpointer.ckpt',\n",
       " 'Finance': 'Financeckeckpointer.ckpt',\n",
       " 'Brokerage': 'Brokerageckeckpointer.ckpt',\n",
       " 'Insurer': 'Insurerckeckpointer.ckpt',\n",
       " 'Service': 'Serviceckeckpointer.ckpt',\n",
       " 'Manufacturer': 'Manufacturerckeckpointer.ckpt'}"
      ]
     },
     "execution_count": 43,
     "metadata": {},
     "output_type": "execute_result"
    }
   ],
   "source": [
    "for_linux"
   ]
  },
  {
   "cell_type": "code",
   "execution_count": 44,
   "metadata": {},
   "outputs": [],
   "source": [
    "for sector_name in filename_dic:\n",
    "    model_dic[sector_name].load_weights('Models/'+for_linux[sector_name])"
   ]
  },
  {
   "cell_type": "code",
   "execution_count": 46,
   "metadata": {},
   "outputs": [],
   "source": [
    "for sector_name, df in df_scaled_UTD.items():\n",
    "    df_scaled_UTD[sector_name] = df.drop('종가',1)\n"
   ]
  },
  {
   "cell_type": "code",
   "execution_count": 47,
   "metadata": {},
   "outputs": [
    {
     "data": {
      "text/html": [
       "<div>\n",
       "<style scoped>\n",
       "    .dataframe tbody tr th:only-of-type {\n",
       "        vertical-align: middle;\n",
       "    }\n",
       "\n",
       "    .dataframe tbody tr th {\n",
       "        vertical-align: top;\n",
       "    }\n",
       "\n",
       "    .dataframe thead th {\n",
       "        text-align: right;\n",
       "    }\n",
       "</style>\n",
       "<table border=\"1\" class=\"dataframe\">\n",
       "  <thead>\n",
       "    <tr style=\"text-align: right;\">\n",
       "      <th></th>\n",
       "      <th>거래량</th>\n",
       "      <th>시가</th>\n",
       "      <th>고가</th>\n",
       "      <th>저가</th>\n",
       "    </tr>\n",
       "    <tr>\n",
       "      <th>일자</th>\n",
       "      <th></th>\n",
       "      <th></th>\n",
       "      <th></th>\n",
       "      <th></th>\n",
       "    </tr>\n",
       "  </thead>\n",
       "  <tbody>\n",
       "    <tr>\n",
       "      <th>2010-05-26</th>\n",
       "      <td>0.016983</td>\n",
       "      <td>0.657058</td>\n",
       "      <td>0.663144</td>\n",
       "      <td>0.675934</td>\n",
       "    </tr>\n",
       "    <tr>\n",
       "      <th>2010-05-27</th>\n",
       "      <td>0.011530</td>\n",
       "      <td>0.667786</td>\n",
       "      <td>0.666047</td>\n",
       "      <td>0.677479</td>\n",
       "    </tr>\n",
       "    <tr>\n",
       "      <th>2010-05-28</th>\n",
       "      <td>0.009056</td>\n",
       "      <td>0.692639</td>\n",
       "      <td>0.677649</td>\n",
       "      <td>0.697269</td>\n",
       "    </tr>\n",
       "    <tr>\n",
       "      <th>2010-05-31</th>\n",
       "      <td>0.007711</td>\n",
       "      <td>0.680974</td>\n",
       "      <td>0.679164</td>\n",
       "      <td>0.704394</td>\n",
       "    </tr>\n",
       "    <tr>\n",
       "      <th>2010-06-01</th>\n",
       "      <td>0.005484</td>\n",
       "      <td>0.693599</td>\n",
       "      <td>0.676949</td>\n",
       "      <td>0.698094</td>\n",
       "    </tr>\n",
       "    <tr>\n",
       "      <th>...</th>\n",
       "      <td>...</td>\n",
       "      <td>...</td>\n",
       "      <td>...</td>\n",
       "      <td>...</td>\n",
       "    </tr>\n",
       "    <tr>\n",
       "      <th>2022-07-19</th>\n",
       "      <td>0.043768</td>\n",
       "      <td>0.176949</td>\n",
       "      <td>0.163524</td>\n",
       "      <td>0.186694</td>\n",
       "    </tr>\n",
       "    <tr>\n",
       "      <th>2022-07-20</th>\n",
       "      <td>0.034799</td>\n",
       "      <td>0.185339</td>\n",
       "      <td>0.165689</td>\n",
       "      <td>0.190003</td>\n",
       "    </tr>\n",
       "    <tr>\n",
       "      <th>2022-07-21</th>\n",
       "      <td>0.027433</td>\n",
       "      <td>0.180586</td>\n",
       "      <td>0.166599</td>\n",
       "      <td>0.190326</td>\n",
       "    </tr>\n",
       "    <tr>\n",
       "      <th>2022-07-22</th>\n",
       "      <td>0.026129</td>\n",
       "      <td>0.182104</td>\n",
       "      <td>0.164401</td>\n",
       "      <td>0.190510</td>\n",
       "    </tr>\n",
       "    <tr>\n",
       "      <th>2022-07-25</th>\n",
       "      <td>0.007830</td>\n",
       "      <td>0.177953</td>\n",
       "      <td>0.164445</td>\n",
       "      <td>0.189046</td>\n",
       "    </tr>\n",
       "  </tbody>\n",
       "</table>\n",
       "<p>3002 rows × 4 columns</p>\n",
       "</div>"
      ],
      "text/plain": [
       "                 거래량        시가        고가        저가\n",
       "일자                                                \n",
       "2010-05-26  0.016983  0.657058  0.663144  0.675934\n",
       "2010-05-27  0.011530  0.667786  0.666047  0.677479\n",
       "2010-05-28  0.009056  0.692639  0.677649  0.697269\n",
       "2010-05-31  0.007711  0.680974  0.679164  0.704394\n",
       "2010-06-01  0.005484  0.693599  0.676949  0.698094\n",
       "...              ...       ...       ...       ...\n",
       "2022-07-19  0.043768  0.176949  0.163524  0.186694\n",
       "2022-07-20  0.034799  0.185339  0.165689  0.190003\n",
       "2022-07-21  0.027433  0.180586  0.166599  0.190326\n",
       "2022-07-22  0.026129  0.182104  0.164401  0.190510\n",
       "2022-07-25  0.007830  0.177953  0.164445  0.189046\n",
       "\n",
       "[3002 rows x 4 columns]"
      ]
     },
     "execution_count": 47,
     "metadata": {},
     "output_type": "execute_result"
    }
   ],
   "source": [
    "df_scaled_UTD['Transport']"
   ]
  },
  {
   "cell_type": "code",
   "execution_count": 48,
   "metadata": {},
   "outputs": [
    {
     "data": {
      "text/html": [
       "<div>\n",
       "<style scoped>\n",
       "    .dataframe tbody tr th:only-of-type {\n",
       "        vertical-align: middle;\n",
       "    }\n",
       "\n",
       "    .dataframe tbody tr th {\n",
       "        vertical-align: top;\n",
       "    }\n",
       "\n",
       "    .dataframe thead th {\n",
       "        text-align: right;\n",
       "    }\n",
       "</style>\n",
       "<table border=\"1\" class=\"dataframe\">\n",
       "  <thead>\n",
       "    <tr style=\"text-align: right;\">\n",
       "      <th></th>\n",
       "      <th>거래량</th>\n",
       "      <th>시가</th>\n",
       "      <th>고가</th>\n",
       "      <th>저가</th>\n",
       "    </tr>\n",
       "    <tr>\n",
       "      <th>일자</th>\n",
       "      <th></th>\n",
       "      <th></th>\n",
       "      <th></th>\n",
       "      <th></th>\n",
       "    </tr>\n",
       "  </thead>\n",
       "  <tbody>\n",
       "    <tr>\n",
       "      <th>2010-05-26</th>\n",
       "      <td>0.044926</td>\n",
       "      <td>0.453312</td>\n",
       "      <td>0.460286</td>\n",
       "      <td>0.475379</td>\n",
       "    </tr>\n",
       "    <tr>\n",
       "      <th>2010-05-27</th>\n",
       "      <td>0.068861</td>\n",
       "      <td>0.475767</td>\n",
       "      <td>0.509656</td>\n",
       "      <td>0.505728</td>\n",
       "    </tr>\n",
       "    <tr>\n",
       "      <th>2010-05-28</th>\n",
       "      <td>0.034065</td>\n",
       "      <td>0.535228</td>\n",
       "      <td>0.512656</td>\n",
       "      <td>0.548986</td>\n",
       "    </tr>\n",
       "    <tr>\n",
       "      <th>2010-05-31</th>\n",
       "      <td>0.030935</td>\n",
       "      <td>0.516903</td>\n",
       "      <td>0.537450</td>\n",
       "      <td>0.551607</td>\n",
       "    </tr>\n",
       "    <tr>\n",
       "      <th>2010-06-01</th>\n",
       "      <td>0.050590</td>\n",
       "      <td>0.562059</td>\n",
       "      <td>0.555889</td>\n",
       "      <td>0.592015</td>\n",
       "    </tr>\n",
       "    <tr>\n",
       "      <th>...</th>\n",
       "      <td>...</td>\n",
       "      <td>...</td>\n",
       "      <td>...</td>\n",
       "      <td>...</td>\n",
       "    </tr>\n",
       "    <tr>\n",
       "      <th>2022-07-19</th>\n",
       "      <td>0.024619</td>\n",
       "      <td>0.475603</td>\n",
       "      <td>0.465141</td>\n",
       "      <td>0.507751</td>\n",
       "    </tr>\n",
       "    <tr>\n",
       "      <th>2022-07-20</th>\n",
       "      <td>0.021200</td>\n",
       "      <td>0.496472</td>\n",
       "      <td>0.475042</td>\n",
       "      <td>0.521629</td>\n",
       "    </tr>\n",
       "    <tr>\n",
       "      <th>2022-07-21</th>\n",
       "      <td>0.023838</td>\n",
       "      <td>0.495104</td>\n",
       "      <td>0.482189</td>\n",
       "      <td>0.521287</td>\n",
       "    </tr>\n",
       "    <tr>\n",
       "      <th>2022-07-22</th>\n",
       "      <td>0.024980</td>\n",
       "      <td>0.494065</td>\n",
       "      <td>0.477770</td>\n",
       "      <td>0.524479</td>\n",
       "    </tr>\n",
       "    <tr>\n",
       "      <th>2022-07-25</th>\n",
       "      <td>0.009431</td>\n",
       "      <td>0.485176</td>\n",
       "      <td>0.476733</td>\n",
       "      <td>0.520574</td>\n",
       "    </tr>\n",
       "  </tbody>\n",
       "</table>\n",
       "<p>3002 rows × 4 columns</p>\n",
       "</div>"
      ],
      "text/plain": [
       "                 거래량        시가        고가        저가\n",
       "일자                                                \n",
       "2010-05-26  0.044926  0.453312  0.460286  0.475379\n",
       "2010-05-27  0.068861  0.475767  0.509656  0.505728\n",
       "2010-05-28  0.034065  0.535228  0.512656  0.548986\n",
       "2010-05-31  0.030935  0.516903  0.537450  0.551607\n",
       "2010-06-01  0.050590  0.562059  0.555889  0.592015\n",
       "...              ...       ...       ...       ...\n",
       "2022-07-19  0.024619  0.475603  0.465141  0.507751\n",
       "2022-07-20  0.021200  0.496472  0.475042  0.521629\n",
       "2022-07-21  0.023838  0.495104  0.482189  0.521287\n",
       "2022-07-22  0.024980  0.494065  0.477770  0.524479\n",
       "2022-07-25  0.009431  0.485176  0.476733  0.520574\n",
       "\n",
       "[3002 rows x 4 columns]"
      ]
     },
     "execution_count": 48,
     "metadata": {},
     "output_type": "execute_result"
    }
   ],
   "source": [
    "df_scaled_UTD['Machine']"
   ]
  },
  {
   "cell_type": "markdown",
   "metadata": {},
   "source": [
    "# tomorrow 업종 상향 / 하향 예측하기\n",
    "## 내일 종가 예측값  - 어제부터 5일 전 예측 종가 평균 "
   ]
  },
  {
   "cell_type": "code",
   "execution_count": 49,
   "metadata": {},
   "outputs": [
    {
     "name": "stdout",
     "output_type": "stream",
     "text": [
      "Food업종은 하향을 예상합니다.\n",
      "Clothing업종은 상향을 예상합니다.\n",
      "Chemical업종은 상향을 예상합니다.\n",
      "Medicine업종은 하향을 예상합니다.\n",
      "Non_Metal업종은 상향을 예상합니다.\n",
      "Metal업종은 상향을 예상합니다.\n",
      "Machine업종은 상향을 예상합니다.\n",
      "Electronic업종은 상향을 예상합니다.\n",
      "Construction업종은 상향을 예상합니다.\n",
      "Distribution업종은 상향을 예상합니다.\n",
      "Power업종은 하향을 예상합니다.\n",
      "Tele업종은 하향을 예상합니다.\n",
      "Finance업종은 하향을 예상합니다.\n",
      "Brokerage업종은 상향을 예상합니다.\n",
      "Insurer업종은 상향을 예상합니다.\n",
      "Service업종은 상향을 예상합니다.\n",
      "Manufacturer업종은 상향을 예상합니다.\n"
     ]
    }
   ],
   "source": [
    "pred_dic = {}\n",
    "for sector_name, model in model_dic.items():\n",
    "    pred_l = []\n",
    "    for i in range(6):\n",
    "        data = tf.constant(np.expand_dims(np.array(df_scaled_UTD[sector_name].tail(10+i)[:10]),axis=0))\n",
    "        pred_l.append(float(model.predict(data)))\n",
    "    pre = sum(pred_l[1:])/5\n",
    "    if pred_l[0]>pre:\n",
    "        s = sector_name + '업종은 상향을 예상합니다.'\n",
    "        print(s)\n",
    "        pred_dic[sector_name] = s\n",
    "    elif pred_l[0]<pre:\n",
    "        s = sector_name + '업종은 하향을 예상합니다.'\n",
    "        print(s)\n",
    "        pred_dic[sector_name] = s\n",
    "    elif pred_l ==0.0:\n",
    "        s= sector_name+'업종은 횡보를 예상합니다.'\n",
    "        print(s)\n",
    "        pred_dic[sector_name] = s\n"
   ]
  },
  {
   "cell_type": "code",
   "execution_count": 34,
   "metadata": {},
   "outputs": [],
   "source": [
    "with open('pred_dic.pickle','wb') as f:\n",
    "    pickle.dump(pred_dic,f)"
   ]
  },
  {
   "cell_type": "code",
   "execution_count": null,
   "metadata": {},
   "outputs": [],
   "source": []
  }
 ],
 "metadata": {
  "kernelspec": {
   "display_name": "Python 3",
   "language": "python",
   "name": "python3"
  },
  "language_info": {
   "codemirror_mode": {
    "name": "ipython",
    "version": 3
   },
   "file_extension": ".py",
   "mimetype": "text/x-python",
   "name": "python",
   "nbconvert_exporter": "python",
   "pygments_lexer": "ipython3",
   "version": "3.7.4"
  }
 },
 "nbformat": 4,
 "nbformat_minor": 5
}
