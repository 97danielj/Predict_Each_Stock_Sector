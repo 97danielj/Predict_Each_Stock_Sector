{
 "cells": [
  {
   "cell_type": "markdown",
   "metadata": {},
   "source": [
    "# 환경설정"
   ]
  },
  {
   "cell_type": "code",
   "execution_count": 1,
   "metadata": {},
   "outputs": [],
   "source": [
    "import pickle\n",
    "import numpy as np\n",
    "import pandas as pd\n",
    "import os\n",
    "import warnings\n",
    "warnings.filterwarnings('ignore')\n",
    "import matplotlib.pyplot as plt\n",
    "import tensorflow as tf"
   ]
  },
  {
   "cell_type": "code",
   "execution_count": 2,
   "metadata": {},
   "outputs": [],
   "source": [
    "with open('df_scaled_UTD.pickle','rb') as f:\n",
    "    df_scaled_UTD = pickle.load(f)\n",
    "with open('sector.pickle','rb') as f:\n",
    "    sector = pickle.load(f)"
   ]
  },
  {
   "cell_type": "markdown",
   "metadata": {},
   "source": [
    "## 파라미터 지정"
   ]
  },
  {
   "cell_type": "code",
   "execution_count": 3,
   "metadata": {},
   "outputs": [],
   "source": [
    "#윈도우 사이즈\n",
    "WINDOW_SIZE = 10\n",
    "# X에 대한 윈도우 함수 설정값\n",
    "X_size = WINDOW_SIZE\n",
    "X_shift = 10\n",
    "X_stride = 1\n",
    "# y에 대한 윈도우 함수 설정값\n",
    "y_size = 1\n",
    "y_shift = WINDOW_SIZE\n",
    "y_stride = 1\n",
    "\n",
    "batch_size = 1"
   ]
  },
  {
   "cell_type": "markdown",
   "metadata": {},
   "source": [
    "# 2. 모델 불러오기"
   ]
  },
  {
   "cell_type": "code",
   "execution_count": 4,
   "metadata": {},
   "outputs": [],
   "source": [
    "from tensorflow.keras.models import Sequential\n",
    "from tensorflow.keras.layers import Dense, LSTM, Conv1D, Lambda\n",
    "from tensorflow.keras.losses import Huber\n",
    "from tensorflow.keras.optimizers import Adam\n",
    "from tensorflow.keras.callbacks import EarlyStopping, ModelCheckpoint"
   ]
  },
  {
   "cell_type": "code",
   "execution_count": 5,
   "metadata": {},
   "outputs": [],
   "source": [
    "model_dic ={}\n",
    "for sector_name in sector.keys():\n",
    "    model_dic[sector_name] = Sequential([\n",
    "        # 1차원 feature map 생성\n",
    "        Conv1D(filters=32, kernel_size=5,\n",
    "               padding=\"causal\",\n",
    "               activation=\"relu\",\n",
    "               #feature의 개수 3개\n",
    "               input_shape=[WINDOW_SIZE, 4]),\n",
    "        # LSTM\n",
    "        LSTM(16, activation='tanh'),\n",
    "        Dense(16, activation=\"relu\"),\n",
    "        Dense(1),\n",
    "    ])"
   ]
  },
  {
   "cell_type": "code",
   "execution_count": 28,
   "metadata": {},
   "outputs": [],
   "source": [
    "with open('filename_dic.pickle', 'rb') as f:\n",
    "    filename_dic = pickle.load(f)"
   ]
  },
  {
   "cell_type": "code",
   "execution_count": 22,
   "metadata": {},
   "outputs": [
    {
     "data": {
      "text/plain": [
       "{'Food': 'Models\\\\Foodckeckpointer.ckpt',\n",
       " 'Clothing': 'Models\\\\Clothingckeckpointer.ckpt',\n",
       " 'Chemical': 'Models\\\\Chemicalckeckpointer.ckpt',\n",
       " 'Medicine': 'Models\\\\Medicineckeckpointer.ckpt',\n",
       " 'Non_Metal': 'Models\\\\Non_Metalckeckpointer.ckpt',\n",
       " 'Metal': 'Models\\\\Metalckeckpointer.ckpt',\n",
       " 'Machine': 'Models\\\\Machineckeckpointer.ckpt',\n",
       " 'Electronic': 'Models\\\\Electronicckeckpointer.ckpt',\n",
       " 'Construction': 'Models\\\\Constructionckeckpointer.ckpt',\n",
       " 'Transport': 'Models\\\\Transportckeckpointer.ckpt',\n",
       " 'Distribution': 'Models\\\\Distributionckeckpointer.ckpt',\n",
       " 'Power': 'Models\\\\Powerckeckpointer.ckpt',\n",
       " 'Tele': 'Models\\\\Teleckeckpointer.ckpt',\n",
       " 'Finance': 'Models\\\\Financeckeckpointer.ckpt',\n",
       " 'Brokerage': 'Models\\\\Brokerageckeckpointer.ckpt',\n",
       " 'Insurer': 'Models\\\\Insurerckeckpointer.ckpt',\n",
       " 'Service': 'Models\\\\Serviceckeckpointer.ckpt',\n",
       " 'Manufacturer': 'Models\\\\Manufacturerckeckpointer.ckpt'}"
      ]
     },
     "execution_count": 22,
     "metadata": {},
     "output_type": "execute_result"
    }
   ],
   "source": []
  },
  {
   "cell_type": "code",
   "execution_count": 29,
   "metadata": {},
   "outputs": [],
   "source": [
    "for_linux = {}\n",
    "for sector_name in filename_dic:\n",
    "    for_linux[sector_name] = filename_dic[sector_name][7:]"
   ]
  },
  {
   "cell_type": "code",
   "execution_count": 30,
   "metadata": {},
   "outputs": [
    {
     "data": {
      "text/plain": [
       "{'Food': 'Foodckeckpointer.ckpt',\n",
       " 'Clothing': 'Clothingckeckpointer.ckpt',\n",
       " 'Chemical': 'Chemicalckeckpointer.ckpt',\n",
       " 'Medicine': 'Medicineckeckpointer.ckpt',\n",
       " 'Non_Metal': 'Non_Metalckeckpointer.ckpt',\n",
       " 'Metal': 'Metalckeckpointer.ckpt',\n",
       " 'Machine': 'Machineckeckpointer.ckpt',\n",
       " 'Electronic': 'Electronicckeckpointer.ckpt',\n",
       " 'Construction': 'Constructionckeckpointer.ckpt',\n",
       " 'Transport': 'Transportckeckpointer.ckpt',\n",
       " 'Distribution': 'Distributionckeckpointer.ckpt',\n",
       " 'Power': 'Powerckeckpointer.ckpt',\n",
       " 'Tele': 'Teleckeckpointer.ckpt',\n",
       " 'Finance': 'Financeckeckpointer.ckpt',\n",
       " 'Brokerage': 'Brokerageckeckpointer.ckpt',\n",
       " 'Insurer': 'Insurerckeckpointer.ckpt',\n",
       " 'Service': 'Serviceckeckpointer.ckpt',\n",
       " 'Manufacturer': 'Manufacturerckeckpointer.ckpt'}"
      ]
     },
     "execution_count": 30,
     "metadata": {},
     "output_type": "execute_result"
    }
   ],
   "source": [
    "for_linux"
   ]
  },
  {
   "cell_type": "code",
   "execution_count": 31,
   "metadata": {},
   "outputs": [],
   "source": [
    "for sector_name in filename_dic:\n",
    "    model_dic[sector_name].load_weights('Models/'+for_linux[sector_name])"
   ]
  },
  {
   "cell_type": "code",
   "execution_count": 32,
   "metadata": {},
   "outputs": [],
   "source": [
    "for sector_name, df in df_scaled_UTD.items():\n",
    "    df_scaled_UTD[sector_name] = df.drop('종가',1)\n"
   ]
  },
  {
   "cell_type": "markdown",
   "metadata": {},
   "source": [
    "# tomorrow 업종 상향 / 하향 예측하기\n",
    "## 내일 종가 예측값  - 어제부터 5일 전 예측 종가 평균 "
   ]
  },
  {
   "cell_type": "code",
   "execution_count": 33,
   "metadata": {},
   "outputs": [
    {
     "name": "stdout",
     "output_type": "stream",
     "text": [
      "Food업종은 하향을 예상합니다.\n",
      "Clothing업종은 상향을 예상합니다.\n",
      "Chemical업종은 상향을 예상합니다.\n",
      "Medicine업종은 하향을 예상합니다.\n",
      "Non_Metal업종은 상향을 예상합니다.\n",
      "Metal업종은 상향을 예상합니다.\n",
      "Machine업종은 상향을 예상합니다.\n",
      "Electronic업종은 상향을 예상합니다.\n",
      "Construction업종은 상향을 예상합니다.\n",
      "Distribution업종은 상향을 예상합니다.\n",
      "Power업종은 하향을 예상합니다.\n",
      "Tele업종은 하향을 예상합니다.\n",
      "Finance업종은 상향을 예상합니다.\n",
      "Brokerage업종은 상향을 예상합니다.\n",
      "Insurer업종은 상향을 예상합니다.\n",
      "Service업종은 상향을 예상합니다.\n",
      "Manufacturer업종은 상향을 예상합니다.\n"
     ]
    }
   ],
   "source": [
    "pred_dic = {}\n",
    "for sector_name, model in model_dic.items():\n",
    "    pred_l = []\n",
    "    for i in range(6):\n",
    "        data = tf.constant(np.expand_dims(np.array(df_scaled_UTD[sector_name].tail(10+i)[:10]),axis=0))\n",
    "        pred_l.append(float(model.predict(data)))\n",
    "    pre = sum(pred_l[1:])/5\n",
    "    if pred_l[0]>pre:\n",
    "        s = sector_name + '업종은 상향을 예상합니다.'\n",
    "        print(s)\n",
    "        pred_dic[sector_name] = s\n",
    "    elif pred_l[0]<pre:\n",
    "        s = sector_name + '업종은 하향을 예상합니다.'\n",
    "        print(s)\n",
    "        pred_dic[sector_name] = s"
   ]
  },
  {
   "cell_type": "code",
   "execution_count": 34,
   "metadata": {},
   "outputs": [],
   "source": [
    "with open('pred_dic.pickle','wb') as f:\n",
    "    pickle.dump(pred_dic,f)"
   ]
  },
  {
   "cell_type": "code",
   "execution_count": null,
   "metadata": {},
   "outputs": [],
   "source": []
  }
 ],
 "metadata": {
  "kernelspec": {
   "display_name": "Python 3",
   "language": "python",
   "name": "python3"
  },
  "language_info": {
   "codemirror_mode": {
    "name": "ipython",
    "version": 3
   },
   "file_extension": ".py",
   "mimetype": "text/x-python",
   "name": "python",
   "nbconvert_exporter": "python",
   "pygments_lexer": "ipython3",
   "version": "3.7.4"
  }
 },
 "nbformat": 4,
 "nbformat_minor": 5
}
