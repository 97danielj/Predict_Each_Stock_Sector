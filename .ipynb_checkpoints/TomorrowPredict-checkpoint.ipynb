{
 "cells": [
  {
   "cell_type": "markdown",
   "id": "082ee6fc",
   "metadata": {},
   "source": [
    "# 환경설정"
   ]
  },
  {
   "cell_type": "code",
   "execution_count": 1,
   "id": "f0df8f90",
   "metadata": {},
   "outputs": [],
   "source": [
    "import pickle\n",
    "import numpy as np\n",
    "import pandas as pd\n",
    "import os\n",
    "import warnings\n",
    "warnings.filterwarnings('ignore')\n",
    "import matplotlib.pyplot as plt\n",
    "import tensorflow as tf"
   ]
  },
  {
   "cell_type": "code",
   "execution_count": 2,
   "id": "601b6f13",
   "metadata": {},
   "outputs": [],
   "source": [
    "with open('df_scaled_UTD.pickle','rb') as f:\n",
    "    df_scaled_UTD = pickle.load(f)\n",
    "with open('sector.pickle','rb') as f:\n",
    "    sector = pickle.load(f)"
   ]
  },
  {
   "cell_type": "markdown",
   "id": "80bfdaf4",
   "metadata": {},
   "source": [
    "## 파라미터 지정"
   ]
  },
  {
   "cell_type": "code",
   "execution_count": 3,
   "id": "ed34aa7e",
   "metadata": {},
   "outputs": [],
   "source": [
    "#윈도우 사이즈\n",
    "WINDOW_SIZE = 10\n",
    "# X에 대한 윈도우 함수 설정값\n",
    "X_size = WINDOW_SIZE\n",
    "X_shift = 10\n",
    "X_stride = 1\n",
    "# y에 대한 윈도우 함수 설정값\n",
    "y_size = 1\n",
    "y_shift = WINDOW_SIZE\n",
    "y_stride = 1\n",
    "\n",
    "batch_size = 1"
   ]
  },
  {
   "cell_type": "markdown",
   "id": "f689559d",
   "metadata": {},
   "source": [
    "# 2. 모델 불러오기"
   ]
  },
  {
   "cell_type": "code",
   "execution_count": 4,
   "id": "f4902ac9",
   "metadata": {},
   "outputs": [],
   "source": [
    "from tensorflow.keras.models import Sequential\n",
    "from tensorflow.keras.layers import Dense, LSTM, Conv1D, Lambda\n",
    "from tensorflow.keras.losses import Huber\n",
    "from tensorflow.keras.optimizers import Adam\n",
    "from tensorflow.keras.callbacks import EarlyStopping, ModelCheckpoint"
   ]
  },
  {
   "cell_type": "code",
   "execution_count": 5,
   "id": "428c21bb",
   "metadata": {},
   "outputs": [],
   "source": [
    "model_dic ={}\n",
    "for sector_name in sector.keys():\n",
    "    model_dic[sector_name] = Sequential([\n",
    "        # 1차원 feature map 생성\n",
    "        Conv1D(filters=32, kernel_size=5,\n",
    "               padding=\"causal\",\n",
    "               activation=\"relu\",\n",
    "               #feature의 개수 3개\n",
    "               input_shape=[WINDOW_SIZE, 4]),\n",
    "        # LSTM\n",
    "        LSTM(16, activation='tanh'),\n",
    "        Dense(16, activation=\"relu\"),\n",
    "        Dense(1),\n",
    "    ])"
   ]
  },
  {
   "cell_type": "code",
   "execution_count": 6,
   "id": "4e17ddb2",
   "metadata": {},
   "outputs": [],
   "source": [
    "with open('filename_dic.pickle', 'rb') as f:\n",
    "    filename_dic = pickle.load(f)"
   ]
  },
  {
   "cell_type": "code",
   "execution_count": 7,
   "id": "9b03f6c3",
   "metadata": {},
   "outputs": [],
   "source": [
    "for sector_name in filename_dic:\n",
    "    model_dic[sector_name].load_weights(filename_dic[sector_name])"
   ]
  },
  {
   "cell_type": "code",
   "execution_count": 8,
   "id": "b5019517",
   "metadata": {},
   "outputs": [],
   "source": [
    "for sector_name, df in df_scaled_UTD.items():\n",
    "    df_scaled_UTD[sector_name] = df.drop('종가',1)\n"
   ]
  },
  {
   "cell_type": "markdown",
   "id": "ae555f56",
   "metadata": {},
   "source": [
    "# today 업종 상향 / 하향 예측하기"
   ]
  },
  {
   "cell_type": "code",
   "execution_count": 9,
   "id": "b8b951d8",
   "metadata": {},
   "outputs": [
    {
     "name": "stdout",
     "output_type": "stream",
     "text": [
      "1/1 [==============================] - 1s 540ms/step\n",
      "1/1 [==============================] - 0s 16ms/step\n",
      "1/1 [==============================] - 0s 17ms/step\n",
      "1/1 [==============================] - 0s 17ms/step\n",
      "1/1 [==============================] - 0s 17ms/step\n",
      "1/1 [==============================] - 0s 16ms/step\n",
      "Food업종은 하향을 예상합니다.\n",
      "1/1 [==============================] - 1s 503ms/step\n",
      "1/1 [==============================] - 0s 15ms/step\n",
      "1/1 [==============================] - 0s 16ms/step\n",
      "1/1 [==============================] - 0s 17ms/step\n",
      "1/1 [==============================] - 0s 17ms/step\n",
      "1/1 [==============================] - 0s 16ms/step\n",
      "Clothing업종은 상향을 예상합니다.\n",
      "1/1 [==============================] - 1s 633ms/step\n",
      "1/1 [==============================] - 0s 16ms/step\n",
      "1/1 [==============================] - 0s 16ms/step\n",
      "1/1 [==============================] - 0s 16ms/step\n",
      "1/1 [==============================] - 0s 17ms/step\n",
      "1/1 [==============================] - 0s 16ms/step\n",
      "Chemical업종은 상향을 예상합니다.\n",
      "1/1 [==============================] - 1s 510ms/step\n",
      "1/1 [==============================] - 0s 16ms/step\n",
      "1/1 [==============================] - 0s 16ms/step\n",
      "1/1 [==============================] - 0s 16ms/step\n",
      "1/1 [==============================] - 0s 17ms/step\n",
      "1/1 [==============================] - 0s 15ms/step\n",
      "Medicine업종은 상향을 예상합니다.\n",
      "1/1 [==============================] - 1s 500ms/step\n",
      "1/1 [==============================] - 0s 16ms/step\n",
      "1/1 [==============================] - 0s 16ms/step\n",
      "1/1 [==============================] - 0s 17ms/step\n",
      "1/1 [==============================] - 0s 16ms/step\n",
      "1/1 [==============================] - 0s 15ms/step\n",
      "Non_Metal업종은 상향을 예상합니다.\n",
      "1/1 [==============================] - 0s 490ms/step\n",
      "1/1 [==============================] - 0s 16ms/step\n",
      "1/1 [==============================] - 0s 16ms/step\n",
      "1/1 [==============================] - 0s 17ms/step\n",
      "1/1 [==============================] - 0s 16ms/step\n",
      "1/1 [==============================] - 0s 16ms/step\n",
      "Metal업종은 하향을 예상합니다.\n",
      "1/1 [==============================] - 0s 471ms/step\n",
      "1/1 [==============================] - 0s 16ms/step\n",
      "1/1 [==============================] - 0s 16ms/step\n",
      "1/1 [==============================] - 0s 17ms/step\n",
      "1/1 [==============================] - 0s 18ms/step\n",
      "1/1 [==============================] - 0s 17ms/step\n",
      "Machine업종은 하향을 예상합니다.\n",
      "1/1 [==============================] - 0s 493ms/step\n",
      "1/1 [==============================] - 0s 15ms/step\n",
      "1/1 [==============================] - 0s 15ms/step\n",
      "1/1 [==============================] - 0s 17ms/step\n",
      "1/1 [==============================] - 0s 17ms/step\n",
      "1/1 [==============================] - 0s 17ms/step\n",
      "Electronic업종은 상향을 예상합니다.\n",
      "1/1 [==============================] - 0s 486ms/step\n",
      "1/1 [==============================] - 0s 15ms/step\n",
      "1/1 [==============================] - 0s 20ms/step\n",
      "1/1 [==============================] - 0s 17ms/step\n",
      "1/1 [==============================] - 0s 16ms/step\n",
      "1/1 [==============================] - 0s 15ms/step\n",
      "Construction업종은 하향을 예상합니다.\n",
      "1/1 [==============================] - 0s 490ms/step\n",
      "1/1 [==============================] - 0s 17ms/step\n",
      "1/1 [==============================] - 0s 17ms/step\n",
      "1/1 [==============================] - 0s 16ms/step\n",
      "1/1 [==============================] - 0s 16ms/step\n",
      "1/1 [==============================] - 0s 16ms/step\n",
      "Transport업종은 하향을 예상합니다.\n",
      "1/1 [==============================] - 0s 491ms/step\n",
      "1/1 [==============================] - 0s 17ms/step\n",
      "1/1 [==============================] - 0s 16ms/step\n",
      "1/1 [==============================] - 0s 16ms/step\n",
      "1/1 [==============================] - 0s 15ms/step\n",
      "1/1 [==============================] - 0s 16ms/step\n",
      "Distribution업종은 하향을 예상합니다.\n",
      "1/1 [==============================] - 1s 676ms/step\n",
      "1/1 [==============================] - 0s 16ms/step\n",
      "1/1 [==============================] - 0s 16ms/step\n",
      "1/1 [==============================] - 0s 17ms/step\n",
      "1/1 [==============================] - 0s 18ms/step\n",
      "1/1 [==============================] - 0s 18ms/step\n",
      "Power업종은 하향을 예상합니다.\n",
      "1/1 [==============================] - 0s 495ms/step\n",
      "1/1 [==============================] - 0s 16ms/step\n",
      "1/1 [==============================] - 0s 17ms/step\n",
      "1/1 [==============================] - 0s 16ms/step\n",
      "1/1 [==============================] - 0s 19ms/step\n",
      "1/1 [==============================] - 0s 15ms/step\n",
      "Tele업종은 하향을 예상합니다.\n",
      "1/1 [==============================] - 0s 482ms/step\n",
      "1/1 [==============================] - 0s 15ms/step\n",
      "1/1 [==============================] - 0s 16ms/step\n",
      "1/1 [==============================] - 0s 16ms/step\n",
      "1/1 [==============================] - 0s 15ms/step\n",
      "1/1 [==============================] - 0s 15ms/step\n",
      "Finance업종은 상향을 예상합니다.\n",
      "1/1 [==============================] - 0s 477ms/step\n",
      "1/1 [==============================] - 0s 16ms/step\n",
      "1/1 [==============================] - 0s 16ms/step\n",
      "1/1 [==============================] - 0s 15ms/step\n",
      "1/1 [==============================] - 0s 16ms/step\n",
      "1/1 [==============================] - 0s 17ms/step\n",
      "Brokerage업종은 상향을 예상합니다.\n",
      "1/1 [==============================] - 0s 477ms/step\n",
      "1/1 [==============================] - 0s 16ms/step\n",
      "1/1 [==============================] - 0s 16ms/step\n",
      "1/1 [==============================] - 0s 15ms/step\n",
      "1/1 [==============================] - 0s 17ms/step\n",
      "1/1 [==============================] - 0s 16ms/step\n",
      "Insurer업종은 하향을 예상합니다.\n",
      "1/1 [==============================] - 0s 468ms/step\n",
      "1/1 [==============================] - 0s 18ms/step\n",
      "1/1 [==============================] - 0s 16ms/step\n",
      "1/1 [==============================] - 0s 16ms/step\n",
      "1/1 [==============================] - 0s 16ms/step\n",
      "1/1 [==============================] - 0s 15ms/step\n",
      "Service업종은 상향을 예상합니다.\n",
      "1/1 [==============================] - 0s 483ms/step\n",
      "1/1 [==============================] - 0s 16ms/step\n",
      "1/1 [==============================] - 0s 15ms/step\n",
      "1/1 [==============================] - 0s 16ms/step\n",
      "1/1 [==============================] - 0s 17ms/step\n",
      "1/1 [==============================] - 0s 16ms/step\n",
      "Manufacturer업종은 상향을 예상합니다.\n"
     ]
    }
   ],
   "source": [
    "pred_dic = {}\n",
    "for sector_name, model in model_dic.items():\n",
    "    pred_l = []\n",
    "    for i in range(6):\n",
    "        data = tf.constant(np.expand_dims(np.array(df_scaled_UTD[sector_name].tail(10+i)[:10]),axis=0))\n",
    "        pred_l.append(float(model.predict(data)))\n",
    "    pre = sum(pred_l[1:])/5\n",
    "    if pred_l[0]>pre:\n",
    "        s = sector_name + '업종은 상향을 예상합니다.'\n",
    "        print(s)\n",
    "        pred_dic[sector_name] = s\n",
    "    elif pred_l[0]<pre:\n",
    "        s = sector_name + '업종은 하향을 예상합니다.'\n",
    "        print(s)\n",
    "        pred_dic[sector_name] = s"
   ]
  },
  {
   "cell_type": "code",
   "execution_count": 10,
   "id": "2ce7cb24",
   "metadata": {},
   "outputs": [
    {
     "data": {
      "text/plain": [
       "'Food업종은 하향을 예상합니다.'"
      ]
     },
     "execution_count": 10,
     "metadata": {},
     "output_type": "execute_result"
    }
   ],
   "source": [
    "pred_dic['Food']"
   ]
  },
  {
   "cell_type": "code",
   "execution_count": null,
   "id": "052dabfb",
   "metadata": {},
   "outputs": [],
   "source": []
  }
 ],
 "metadata": {
  "kernelspec": {
   "display_name": "Python 3 (ipykernel)",
   "language": "python",
   "name": "python3"
  },
  "language_info": {
   "codemirror_mode": {
    "name": "ipython",
    "version": 3
   },
   "file_extension": ".py",
   "mimetype": "text/x-python",
   "name": "python",
   "nbconvert_exporter": "python",
   "pygments_lexer": "ipython3",
   "version": "3.9.12"
  }
 },
 "nbformat": 4,
 "nbformat_minor": 5
}
