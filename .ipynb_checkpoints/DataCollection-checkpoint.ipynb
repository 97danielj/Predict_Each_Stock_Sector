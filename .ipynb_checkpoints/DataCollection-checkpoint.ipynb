{
 "cells": [
  {
   "cell_type": "markdown",
   "id": "9c14acd4",
   "metadata": {},
   "source": [
    "# 1. 로그인"
   ]
  },
  {
   "cell_type": "code",
   "execution_count": 1,
   "id": "fce76891",
   "metadata": {},
   "outputs": [],
   "source": [
    "import pickle\n",
    "import time\n",
    "import pandas as pd\n",
    "from pykiwoom.kiwoom import *\n",
    "import warnings\n",
    "warnings.filterwarnings('ignore')\n",
    "\n",
    "kiwoom = Kiwoom()\n",
    "kiwoom.CommConnect(block=True)"
   ]
  },
  {
   "cell_type": "code",
   "execution_count": 2,
   "id": "77ba20b4",
   "metadata": {},
   "outputs": [],
   "source": [
    "# login - information\n",
    "account_num = kiwoom.GetLoginInfo('ACCOUNT_CNT') # number of account\n",
    "accounts = kiwoom.GetLoginInfo('ACCNO') # list of account\n",
    "user_id = kiwoom.GetLoginInfo('USER_ID') # user id\n",
    "user_name = kiwoom.GetLoginInfo('USER_NAME') # user name\n",
    "#print('number of account : {}'.format(account_num))"
   ]
  },
  {
   "cell_type": "code",
   "execution_count": 3,
   "id": "679f699c",
   "metadata": {},
   "outputs": [
    {
     "name": "stdout",
     "output_type": "stream",
     "text": [
      "연결완료\n"
     ]
    }
   ],
   "source": [
    "state = kiwoom.GetConnectState()\n",
    "if state == 0:\n",
    "    print(\"미연결\")\n",
    "elif state == 1:\n",
    "    print(\"연결완료\")"
   ]
  },
  {
   "cell_type": "markdown",
   "id": "d17a9cdc",
   "metadata": {},
   "source": [
    "# 2. 변수 설정"
   ]
  },
  {
   "cell_type": "code",
   "execution_count": 4,
   "id": "27b11263",
   "metadata": {},
   "outputs": [
    {
     "data": {
      "text/plain": [
       "'20220710'"
      ]
     },
     "execution_count": 4,
     "metadata": {},
     "output_type": "execute_result"
    }
   ],
   "source": [
    "from datetime import date,datetime\n",
    "today = date.today()\n",
    "today = today.isoformat()\n",
    "today = today.replace('-','')\n",
    "yesterday = int(today)-1\n",
    "yesterday = str(yesterday)\n",
    "set_d = yesterday\n",
    "set_d"
   ]
  },
  {
   "cell_type": "raw",
   "id": "8809d108",
   "metadata": {},
   "source": [
    "1. 음식료품 : CJ제일제당, 오리온, 하이트진로, 농심, 롯데칠성\n",
    "2. 섬유의복 : F&F, LF, 한섬, 한세실업, 대한방직\n",
    "3. 화학 : LG화학, SK이노베이션, S-oil, LG생활건강, 아모레퍼시픽\n",
    "4. 의약품 :  삼성바이오로직스, 셀트리온, sk바이오사이언스, 유한양행, 한미약품\n",
    "5. 비금속광물 : 포스코케미칼, 쌍용C&E, 아이에스동서, 한일시멘트\n",
    "6. 철강금속 : POSCO홀딩스, 고려아연, 현대제철, KG스틸, 동국제강\n",
    "7. 기계 : 두산에너빌리티, 한온시스템, 두산밥캣, 씨에스윈드\n",
    "8. 전기전자: 삼성전자, sk하이닉스, LG에너지솔루션, 삼성SDI, LG전자\n",
    "9. 건설업 : 현대건설, GS건설, 대우건설, 한전KPS\n",
    "10. 운수창고 : HMM, 대한항공, 현대글로비스, 한진칼, 팬오션\n",
    "11. 유통업 : 삼성물산, 롯데쇼핑, BGF리테일, 이마트, 신세계\n",
    "12. 전기가스업 : 한국전력, 한국가스공사, 서울가스\n",
    "13. 통신업 : SK테레콤, KT, LG유플러스\n",
    "14. 금융업 :  카카오뱅크, LG , 삼성화재,카카오페이,미래에셋증권\n",
    "15. 증권 : NH투자증권 ,삼성증권, 메리츠증권, 키움증권\n",
    "16. 보험 : 삼성생명, DB손해보험, 메리츠화재, 현대해상\n",
    "17. 서비스업 : Naver, 카카오, 크래프톤, 삼성에스디에스, 엔씨소프트 \n",
    "18. 제조업 :  현대차, 기아, 현대모비스, 현대중공업, kt&G, 삼성전기"
   ]
  },
  {
   "cell_type": "code",
   "execution_count": 5,
   "id": "b1ef90ce",
   "metadata": {},
   "outputs": [],
   "source": [
    "#SectorList : {sector_name: stockcode_list}\n",
    "sector = {'Food':['097950', '271560', '000080','004370','005300'],\n",
    "          'Clothing' : ['383220','093050','020000','105630','001070'],\n",
    "          'Chemical' : ['051910','096770','010950','051900','090430'],\n",
    "          'Medicine' : ['207940','068270','302440','000100','128940'],\n",
    "          'Non_Metal' : ['003670','003410','010780','300720'],\n",
    "          'Metal': ['005490','010130', '004020','016380','001230'],\n",
    "          'Machine' : ['034020','018880','241560','112610'],\n",
    "          'Electronic' : ['005930','000660','373220','006400','066570'],\n",
    "          'Construction' : ['000720','006360','047040','051600'],\n",
    "          'Transport': ['011200','003490','086280','180640','028670'],\n",
    "          'Distribution' : ['028260','023530','282330','139480','004170'],\n",
    "          'Power': ['015760','036460','017390'],\n",
    "          'Tele' : ['017670','030200','032640'],\n",
    "          'Finance': ['323410','003550','000810','377300','006800'],\n",
    "          'Brokerage' : ['005940','016360','008560','039490'],\n",
    "          'Insurer':['032830','005830','000060','001450'],\n",
    "          'Service':['035420','035720','259960','018260','036570'],\n",
    "          'Manufacturer':['005380','000270','012330','329180','033780','009150']     \n",
    "     }\n"
   ]
  },
  {
   "cell_type": "code",
   "execution_count": 6,
   "id": "ab0a970c",
   "metadata": {},
   "outputs": [],
   "source": [
    "df_sector = {'Food':{},\n",
    "          'Clothing' : {},\n",
    "          'Chemical' : {},\n",
    "          'Medicine' : {},\n",
    "          'Non_Metal' : {},\n",
    "          'Metal': {},\n",
    "          'Machine' : {},\n",
    "          'Electronic' : {},\n",
    "          'Construction' : {},\n",
    "          'Transport': {},\n",
    "          'Distribution' : {},\n",
    "          'Power': {},\n",
    "          'Tele' : {},\n",
    "          'Finance': {},\n",
    "          'Brokerage' : {},\n",
    "          'Insurer': {},\n",
    "          'Service': {},\n",
    "          'Manufacturer': {}}"
   ]
  },
  {
   "cell_type": "markdown",
   "id": "43ff9964",
   "metadata": {},
   "source": [
    "# 3. 데이터 수집 함수\n",
    "## 3-1. 일병 종가 데이터"
   ]
  },
  {
   "cell_type": "code",
   "execution_count": 7,
   "id": "b188f4d9",
   "metadata": {},
   "outputs": [],
   "source": [
    "def checkStockPrice(sector_name,stockcode):\n",
    "    dfs = [] #데이터프레임리스트\n",
    "    count=0\n",
    "    df = kiwoom.block_request(\"opt10081\",\n",
    "                          종목코드=stockcode,\n",
    "                          기준일자=set_d,\n",
    "                          수정주가구분=1,\n",
    "                          output=\"주식일봉차트조회\",\n",
    "                          next=0)\n",
    "    count+=1\n",
    "    print('데이터 수집 시작.. ({}~)'.format(df.loc[0,'일자']))\n",
    "    print('데이터 수집 중.. (~{})'.format(df.loc[len(df)-1,'일자']))\n",
    "    while kiwoom.tr_remained:\n",
    "        df = kiwoom.block_request(\"opt10081\",\n",
    "                                  종목코드=stockcode,\n",
    "                                  기준일자=set_d,\n",
    "                                  수정주가구분=1,\n",
    "                                  output=\"주식일봉차트조회\",\n",
    "                                  next=2)\n",
    "        dfs.append(df)\n",
    "        time.sleep(1)\n",
    "        print('데이터 수집 중.. (~{})'.format(df.loc[len(df)-1,'일자']))\n",
    "        count+=1\n",
    "        if kiwoom.tr_remained == False:\n",
    "            print('데이터 수집 완료')\n",
    "        elif count == 5:\n",
    "            print('3000개 데이터를 확보')\n",
    "            break;\n",
    "        \n",
    "    df_item = pd.concat(dfs)\n",
    "    df_item.reset_index(drop=True,inplace=True)\n",
    "    df_sector[sector_name][stockcode] = df_item"
   ]
  },
  {
   "cell_type": "markdown",
   "id": "c978a669",
   "metadata": {},
   "source": [
    "## 3-2 일별 코스피 지수 / 개별"
   ]
  },
  {
   "cell_type": "code",
   "execution_count": 8,
   "id": "1732906d",
   "metadata": {},
   "outputs": [],
   "source": [
    "def checkKospi():\n",
    "    dfk = []\n",
    "    count = 0\n",
    "    df = kiwoom.block_request(\"opt20006\",\n",
    "                          업종코드=\"001\",\n",
    "                          기준일자=set_d,\n",
    "                          output=\"업종일봉조회\",\n",
    "                          next=0)\n",
    "    dfk.append(df)\n",
    "    print('코스피 데이터 수집 시작.. ({}~)'.format(df.loc[0,'일자']))\n",
    "    print('코스피 수집 중.. (~{})'.format(df.loc[len(df)-1,'일자']))\n",
    "    count+= 1\n",
    "    \n",
    "    while kiwoom.tr_remained:\n",
    "        df = kiwoom.block_request(\"opt20006\",\n",
    "                                  업종코드=\"001\",\n",
    "                                  기준일자=set_d,\n",
    "                                  output=\"업종일봉조회\",\n",
    "                                  next=2)\n",
    "        time.sleep(1)\n",
    "        print('코스피 데이터 수집 중.. (~{})'.format(df.loc[len(df)-1,'일자']))\n",
    "        count+=1\n",
    "        dfk.append(df)\n",
    "        if kiwoom.tr_remained == False:\n",
    "            print('데이터 수집 완료')\n",
    "        elif count == 5:\n",
    "            print('3000개 코스피 데이터를 확보')\n",
    "            break;\n",
    "        \n",
    "    df = pd.concat(dfk)\n",
    "    df.reset_index(drop = True, inplace=True)\n",
    "    return df\n",
    "    \n",
    "    \n",
    "    "
   ]
  },
  {
   "cell_type": "markdown",
   "id": "5d9c4d1d",
   "metadata": {},
   "source": [
    "# 4. 데이터 수집 자동화"
   ]
  },
  {
   "cell_type": "code",
   "execution_count": 9,
   "id": "edd9bcc1",
   "metadata": {},
   "outputs": [
    {
     "name": "stdout",
     "output_type": "stream",
     "text": [
      "---------Food업종 데이터 수집----------\n",
      "--------[CJ제일제당] 항목 데이터 수집---------\n",
      "CommRqData opt10081 opt10081 0 0101\n",
      "데이터 수집 시작.. (20220708~)\n",
      "데이터 수집 중.. (~20200206)\n",
      "CommRqData opt10081 opt10081 2 0101\n",
      "데이터 수집 중.. (~20170821)\n",
      "CommRqData opt10081 opt10081 2 0101\n",
      "데이터 수집 중.. (~20150318)\n",
      "CommRqData opt10081 opt10081 2 0101\n"
     ]
    },
    {
     "ename": "TypeError",
     "evalue": "'NoneType' object is not subscriptable",
     "output_type": "error",
     "traceback": [
      "\u001b[1;31m---------------------------------------------------------------------------\u001b[0m",
      "\u001b[1;31mTypeError\u001b[0m                                 Traceback (most recent call last)",
      "\u001b[1;32m~\\anaconda3\\envs\\py37_32\\lib\\site-packages\\pykiwoom\\kiwoom.py\u001b[0m in \u001b[0;36mOnReceiveRealData\u001b[1;34m(self, code, rtype, data)\u001b[0m\n\u001b[0;32m    230\u001b[0m \u001b[1;33m\u001b[0m\u001b[0m\n\u001b[0;32m    231\u001b[0m         \u001b[1;31m# put real data to the queue\u001b[0m\u001b[1;33m\u001b[0m\u001b[1;33m\u001b[0m\u001b[1;33m\u001b[0m\u001b[0m\n\u001b[1;32m--> 232\u001b[1;33m         \u001b[0mself\u001b[0m\u001b[1;33m.\u001b[0m\u001b[0mreal_dqueues\u001b[0m\u001b[1;33m[\u001b[0m\u001b[0mindex\u001b[0m\u001b[1;33m]\u001b[0m\u001b[1;33m.\u001b[0m\u001b[0mput\u001b[0m\u001b[1;33m(\u001b[0m\u001b[0mreal_data\u001b[0m\u001b[1;33m)\u001b[0m\u001b[1;33m\u001b[0m\u001b[1;33m\u001b[0m\u001b[0m\n\u001b[0m\u001b[0;32m    233\u001b[0m \u001b[1;33m\u001b[0m\u001b[0m\n\u001b[0;32m    234\u001b[0m     \u001b[1;32mdef\u001b[0m \u001b[0m_set_signals_slots\u001b[0m\u001b[1;33m(\u001b[0m\u001b[0mself\u001b[0m\u001b[1;33m)\u001b[0m\u001b[1;33m:\u001b[0m\u001b[1;33m\u001b[0m\u001b[1;33m\u001b[0m\u001b[0m\n",
      "\u001b[1;31mTypeError\u001b[0m: 'NoneType' object is not subscriptable"
     ]
    },
    {
     "name": "stdout",
     "output_type": "stream",
     "text": [
      "데이터 수집 중.. (~20121008)\n",
      "CommRqData opt10081 opt10081 2 0101\n",
      "데이터 수집 중.. (~20100512)\n",
      "3000개 데이터를 확보\n",
      "--------[오리온] 항목 데이터 수집---------\n",
      "CommRqData opt10081 opt10081 0 0101\n",
      "데이터 수집 시작.. (20220708~)\n",
      "데이터 수집 중.. (~20200206)\n",
      "CommRqData opt10081 opt10081 2 0101\n",
      "데이터 수집 중.. (~20170821)\n",
      "CommRqData opt10081 opt10081 2 0101\n",
      "데이터 수집 중.. (~20170707)\n",
      "데이터 수집 완료\n",
      "--------[하이트진로] 항목 데이터 수집---------\n",
      "CommRqData opt10081 opt10081 0 0101\n",
      "데이터 수집 시작.. (20220708~)\n",
      "데이터 수집 중.. (~20200206)\n",
      "CommRqData opt10081 opt10081 2 0101\n",
      "데이터 수집 중.. (~20170821)\n",
      "CommRqData opt10081 opt10081 2 0101\n"
     ]
    },
    {
     "ename": "TypeError",
     "evalue": "'NoneType' object is not subscriptable",
     "output_type": "error",
     "traceback": [
      "\u001b[1;31m---------------------------------------------------------------------------\u001b[0m",
      "\u001b[1;31mTypeError\u001b[0m                                 Traceback (most recent call last)",
      "\u001b[1;32m~\\anaconda3\\envs\\py37_32\\lib\\site-packages\\pykiwoom\\kiwoom.py\u001b[0m in \u001b[0;36mOnReceiveRealData\u001b[1;34m(self, code, rtype, data)\u001b[0m\n\u001b[0;32m    230\u001b[0m \u001b[1;33m\u001b[0m\u001b[0m\n\u001b[0;32m    231\u001b[0m         \u001b[1;31m# put real data to the queue\u001b[0m\u001b[1;33m\u001b[0m\u001b[1;33m\u001b[0m\u001b[1;33m\u001b[0m\u001b[0m\n\u001b[1;32m--> 232\u001b[1;33m         \u001b[0mself\u001b[0m\u001b[1;33m.\u001b[0m\u001b[0mreal_dqueues\u001b[0m\u001b[1;33m[\u001b[0m\u001b[0mindex\u001b[0m\u001b[1;33m]\u001b[0m\u001b[1;33m.\u001b[0m\u001b[0mput\u001b[0m\u001b[1;33m(\u001b[0m\u001b[0mreal_data\u001b[0m\u001b[1;33m)\u001b[0m\u001b[1;33m\u001b[0m\u001b[1;33m\u001b[0m\u001b[0m\n\u001b[0m\u001b[0;32m    233\u001b[0m \u001b[1;33m\u001b[0m\u001b[0m\n\u001b[0;32m    234\u001b[0m     \u001b[1;32mdef\u001b[0m \u001b[0m_set_signals_slots\u001b[0m\u001b[1;33m(\u001b[0m\u001b[0mself\u001b[0m\u001b[1;33m)\u001b[0m\u001b[1;33m:\u001b[0m\u001b[1;33m\u001b[0m\u001b[1;33m\u001b[0m\u001b[0m\n",
      "\u001b[1;31mTypeError\u001b[0m: 'NoneType' object is not subscriptable"
     ]
    },
    {
     "name": "stdout",
     "output_type": "stream",
     "text": [
      "데이터 수집 중.. (~20150318)\n",
      "CommRqData opt10081 opt10081 2 0101\n",
      "데이터 수집 중.. (~20121008)\n",
      "CommRqData opt10081 opt10081 2 0101\n",
      "데이터 수집 중.. (~20100512)\n",
      "3000개 데이터를 확보\n",
      "--------[농심] 항목 데이터 수집---------\n",
      "CommRqData opt10081 opt10081 0 0101\n"
     ]
    },
    {
     "ename": "TypeError",
     "evalue": "'NoneType' object is not subscriptable",
     "output_type": "error",
     "traceback": [
      "\u001b[1;31m---------------------------------------------------------------------------\u001b[0m",
      "\u001b[1;31mTypeError\u001b[0m                                 Traceback (most recent call last)",
      "\u001b[1;32m~\\anaconda3\\envs\\py37_32\\lib\\site-packages\\pykiwoom\\kiwoom.py\u001b[0m in \u001b[0;36mOnReceiveRealData\u001b[1;34m(self, code, rtype, data)\u001b[0m\n\u001b[0;32m    230\u001b[0m \u001b[1;33m\u001b[0m\u001b[0m\n\u001b[0;32m    231\u001b[0m         \u001b[1;31m# put real data to the queue\u001b[0m\u001b[1;33m\u001b[0m\u001b[1;33m\u001b[0m\u001b[1;33m\u001b[0m\u001b[0m\n\u001b[1;32m--> 232\u001b[1;33m         \u001b[0mself\u001b[0m\u001b[1;33m.\u001b[0m\u001b[0mreal_dqueues\u001b[0m\u001b[1;33m[\u001b[0m\u001b[0mindex\u001b[0m\u001b[1;33m]\u001b[0m\u001b[1;33m.\u001b[0m\u001b[0mput\u001b[0m\u001b[1;33m(\u001b[0m\u001b[0mreal_data\u001b[0m\u001b[1;33m)\u001b[0m\u001b[1;33m\u001b[0m\u001b[1;33m\u001b[0m\u001b[0m\n\u001b[0m\u001b[0;32m    233\u001b[0m \u001b[1;33m\u001b[0m\u001b[0m\n\u001b[0;32m    234\u001b[0m     \u001b[1;32mdef\u001b[0m \u001b[0m_set_signals_slots\u001b[0m\u001b[1;33m(\u001b[0m\u001b[0mself\u001b[0m\u001b[1;33m)\u001b[0m\u001b[1;33m:\u001b[0m\u001b[1;33m\u001b[0m\u001b[1;33m\u001b[0m\u001b[0m\n",
      "\u001b[1;31mTypeError\u001b[0m: 'NoneType' object is not subscriptable"
     ]
    },
    {
     "name": "stdout",
     "output_type": "stream",
     "text": [
      "데이터 수집 시작.. (20220708~)\n",
      "데이터 수집 중.. (~20200206)\n",
      "CommRqData opt10081 opt10081 2 0101\n",
      "데이터 수집 중.. (~20170821)\n",
      "CommRqData opt10081 opt10081 2 0101\n",
      "데이터 수집 중.. (~20150318)\n",
      "CommRqData opt10081 opt10081 2 0101\n",
      "데이터 수집 중.. (~20121008)\n",
      "CommRqData opt10081 opt10081 2 0101\n",
      "데이터 수집 중.. (~20100512)\n",
      "3000개 데이터를 확보\n",
      "--------[롯데칠성] 항목 데이터 수집---------\n",
      "CommRqData opt10081 opt10081 0 0101\n",
      "데이터 수집 시작.. (20220708~)\n",
      "데이터 수집 중.. (~20200206)\n",
      "CommRqData opt10081 opt10081 2 0101\n",
      "데이터 수집 중.. (~20170821)\n",
      "CommRqData opt10081 opt10081 2 0101\n",
      "데이터 수집 중.. (~20150318)\n",
      "CommRqData opt10081 opt10081 2 0101\n",
      "데이터 수집 중.. (~20121008)\n",
      "CommRqData opt10081 opt10081 2 0101\n",
      "데이터 수집 중.. (~20100512)\n",
      "3000개 데이터를 확보\n",
      "---------Clothing업종 데이터 수집----------\n",
      "--------[F&F] 항목 데이터 수집---------\n",
      "CommRqData opt10081 opt10081 0 0101\n",
      "데이터 수집 시작.. (20220708~)\n",
      "데이터 수집 중.. (~20210521)\n"
     ]
    },
    {
     "ename": "ValueError",
     "evalue": "No objects to concatenate",
     "output_type": "error",
     "traceback": [
      "\u001b[1;31m---------------------------------------------------------------------------\u001b[0m",
      "\u001b[1;31mValueError\u001b[0m                                Traceback (most recent call last)",
      "\u001b[1;32m~\\AppData\\Local\\Temp\\ipykernel_11164\\3939503251.py\u001b[0m in \u001b[0;36m<module>\u001b[1;34m\u001b[0m\n\u001b[0;32m      6\u001b[0m         \u001b[0mstockname\u001b[0m \u001b[1;33m=\u001b[0m \u001b[0mkiwoom\u001b[0m\u001b[1;33m.\u001b[0m\u001b[0mGetMasterCodeName\u001b[0m\u001b[1;33m(\u001b[0m\u001b[0mstockcode\u001b[0m\u001b[1;33m)\u001b[0m\u001b[1;33m\u001b[0m\u001b[1;33m\u001b[0m\u001b[0m\n\u001b[0;32m      7\u001b[0m         \u001b[0mprint\u001b[0m\u001b[1;33m(\u001b[0m\u001b[1;34mf'--------[{stockname}] 항목 데이터 수집---------'\u001b[0m\u001b[1;33m)\u001b[0m\u001b[1;33m\u001b[0m\u001b[1;33m\u001b[0m\u001b[0m\n\u001b[1;32m----> 8\u001b[1;33m         \u001b[0mcheckStockPrice\u001b[0m\u001b[1;33m(\u001b[0m\u001b[0msector_name\u001b[0m\u001b[1;33m,\u001b[0m\u001b[0mstockcode\u001b[0m\u001b[1;33m)\u001b[0m\u001b[1;33m\u001b[0m\u001b[1;33m\u001b[0m\u001b[0m\n\u001b[0m\u001b[0;32m      9\u001b[0m \u001b[1;33m\u001b[0m\u001b[0m\n\u001b[0;32m     10\u001b[0m \u001b[1;33m\u001b[0m\u001b[0m\n",
      "\u001b[1;32m~\\AppData\\Local\\Temp\\ipykernel_11164\\2668683738.py\u001b[0m in \u001b[0;36mcheckStockPrice\u001b[1;34m(sector_name, stockcode)\u001b[0m\n\u001b[0;32m     28\u001b[0m             \u001b[1;32mbreak\u001b[0m\u001b[1;33m;\u001b[0m\u001b[1;33m\u001b[0m\u001b[1;33m\u001b[0m\u001b[0m\n\u001b[0;32m     29\u001b[0m \u001b[1;33m\u001b[0m\u001b[0m\n\u001b[1;32m---> 30\u001b[1;33m     \u001b[0mdf_item\u001b[0m \u001b[1;33m=\u001b[0m \u001b[0mpd\u001b[0m\u001b[1;33m.\u001b[0m\u001b[0mconcat\u001b[0m\u001b[1;33m(\u001b[0m\u001b[0mdfs\u001b[0m\u001b[1;33m)\u001b[0m\u001b[1;33m\u001b[0m\u001b[1;33m\u001b[0m\u001b[0m\n\u001b[0m\u001b[0;32m     31\u001b[0m     \u001b[0mdf_item\u001b[0m\u001b[1;33m.\u001b[0m\u001b[0mreset_index\u001b[0m\u001b[1;33m(\u001b[0m\u001b[0mdrop\u001b[0m\u001b[1;33m=\u001b[0m\u001b[1;32mTrue\u001b[0m\u001b[1;33m,\u001b[0m\u001b[0minplace\u001b[0m\u001b[1;33m=\u001b[0m\u001b[1;32mTrue\u001b[0m\u001b[1;33m)\u001b[0m\u001b[1;33m\u001b[0m\u001b[1;33m\u001b[0m\u001b[0m\n\u001b[0;32m     32\u001b[0m     \u001b[0mdf_sector\u001b[0m\u001b[1;33m[\u001b[0m\u001b[0msector_name\u001b[0m\u001b[1;33m]\u001b[0m\u001b[1;33m[\u001b[0m\u001b[0mstockcode\u001b[0m\u001b[1;33m]\u001b[0m \u001b[1;33m=\u001b[0m \u001b[0mdf_item\u001b[0m\u001b[1;33m\u001b[0m\u001b[1;33m\u001b[0m\u001b[0m\n",
      "\u001b[1;32m~\\anaconda3\\envs\\py37_32\\lib\\site-packages\\pandas\\util\\_decorators.py\u001b[0m in \u001b[0;36mwrapper\u001b[1;34m(*args, **kwargs)\u001b[0m\n\u001b[0;32m    309\u001b[0m                     \u001b[0mstacklevel\u001b[0m\u001b[1;33m=\u001b[0m\u001b[0mstacklevel\u001b[0m\u001b[1;33m,\u001b[0m\u001b[1;33m\u001b[0m\u001b[1;33m\u001b[0m\u001b[0m\n\u001b[0;32m    310\u001b[0m                 )\n\u001b[1;32m--> 311\u001b[1;33m             \u001b[1;32mreturn\u001b[0m \u001b[0mfunc\u001b[0m\u001b[1;33m(\u001b[0m\u001b[1;33m*\u001b[0m\u001b[0margs\u001b[0m\u001b[1;33m,\u001b[0m \u001b[1;33m**\u001b[0m\u001b[0mkwargs\u001b[0m\u001b[1;33m)\u001b[0m\u001b[1;33m\u001b[0m\u001b[1;33m\u001b[0m\u001b[0m\n\u001b[0m\u001b[0;32m    312\u001b[0m \u001b[1;33m\u001b[0m\u001b[0m\n\u001b[0;32m    313\u001b[0m         \u001b[1;32mreturn\u001b[0m \u001b[0mwrapper\u001b[0m\u001b[1;33m\u001b[0m\u001b[1;33m\u001b[0m\u001b[0m\n",
      "\u001b[1;32m~\\anaconda3\\envs\\py37_32\\lib\\site-packages\\pandas\\core\\reshape\\concat.py\u001b[0m in \u001b[0;36mconcat\u001b[1;34m(objs, axis, join, ignore_index, keys, levels, names, verify_integrity, sort, copy)\u001b[0m\n\u001b[0;32m    302\u001b[0m         \u001b[0mverify_integrity\u001b[0m\u001b[1;33m=\u001b[0m\u001b[0mverify_integrity\u001b[0m\u001b[1;33m,\u001b[0m\u001b[1;33m\u001b[0m\u001b[1;33m\u001b[0m\u001b[0m\n\u001b[0;32m    303\u001b[0m         \u001b[0mcopy\u001b[0m\u001b[1;33m=\u001b[0m\u001b[0mcopy\u001b[0m\u001b[1;33m,\u001b[0m\u001b[1;33m\u001b[0m\u001b[1;33m\u001b[0m\u001b[0m\n\u001b[1;32m--> 304\u001b[1;33m         \u001b[0msort\u001b[0m\u001b[1;33m=\u001b[0m\u001b[0msort\u001b[0m\u001b[1;33m,\u001b[0m\u001b[1;33m\u001b[0m\u001b[1;33m\u001b[0m\u001b[0m\n\u001b[0m\u001b[0;32m    305\u001b[0m     )\n\u001b[0;32m    306\u001b[0m \u001b[1;33m\u001b[0m\u001b[0m\n",
      "\u001b[1;32m~\\anaconda3\\envs\\py37_32\\lib\\site-packages\\pandas\\core\\reshape\\concat.py\u001b[0m in \u001b[0;36m__init__\u001b[1;34m(self, objs, axis, join, keys, levels, names, ignore_index, verify_integrity, copy, sort)\u001b[0m\n\u001b[0;32m    349\u001b[0m \u001b[1;33m\u001b[0m\u001b[0m\n\u001b[0;32m    350\u001b[0m         \u001b[1;32mif\u001b[0m \u001b[0mlen\u001b[0m\u001b[1;33m(\u001b[0m\u001b[0mobjs\u001b[0m\u001b[1;33m)\u001b[0m \u001b[1;33m==\u001b[0m \u001b[1;36m0\u001b[0m\u001b[1;33m:\u001b[0m\u001b[1;33m\u001b[0m\u001b[1;33m\u001b[0m\u001b[0m\n\u001b[1;32m--> 351\u001b[1;33m             \u001b[1;32mraise\u001b[0m \u001b[0mValueError\u001b[0m\u001b[1;33m(\u001b[0m\u001b[1;34m\"No objects to concatenate\"\u001b[0m\u001b[1;33m)\u001b[0m\u001b[1;33m\u001b[0m\u001b[1;33m\u001b[0m\u001b[0m\n\u001b[0m\u001b[0;32m    352\u001b[0m \u001b[1;33m\u001b[0m\u001b[0m\n\u001b[0;32m    353\u001b[0m         \u001b[1;32mif\u001b[0m \u001b[0mkeys\u001b[0m \u001b[1;32mis\u001b[0m \u001b[1;32mNone\u001b[0m\u001b[1;33m:\u001b[0m\u001b[1;33m\u001b[0m\u001b[1;33m\u001b[0m\u001b[0m\n",
      "\u001b[1;31mValueError\u001b[0m: No objects to concatenate"
     ]
    }
   ],
   "source": [
    "#일봉 데이터 수집 자동화 코드\n",
    "for sector_name, stockcode_list in sector.items():\n",
    "    print(f'---------{sector_name}업종 데이터 수집----------')\n",
    "    for stockcode in stockcode_list:\n",
    "        # 주식항목이름\n",
    "        stockname = kiwoom.GetMasterCodeName(stockcode)\n",
    "        print(f'--------[{stockname}] 항목 데이터 수집---------')\n",
    "        checkStockPrice(sector_name,stockcode)\n",
    "        \n",
    "    "
   ]
  },
  {
   "cell_type": "code",
   "execution_count": null,
   "id": "5759f457",
   "metadata": {},
   "outputs": [],
   "source": [
    "# 코스피 지수 데이터 수집\n",
    "kospi = checkKospi()"
   ]
  },
  {
   "cell_type": "markdown",
   "id": "9a103d2f",
   "metadata": {},
   "source": [
    "# 5. 데이터 개수 확인\n",
    "### 상장 일자 : 20100512 / 12년확보"
   ]
  },
  {
   "cell_type": "code",
   "execution_count": null,
   "id": "ca43cdb5",
   "metadata": {},
   "outputs": [],
   "source": [
    "# ('Food',['001680', '097950', '007310','271560','004370'])\n",
    "for sector_name, stockcode_list in sector.items():\n",
    "    for stockcode in stockcode_list:\n",
    "        print('{} 수집된 데이터의 개수 : '.format(stockcode),end='')\n",
    "        print(len(df_sector[sector_name][stockcode]))"
   ]
  },
  {
   "cell_type": "code",
   "execution_count": null,
   "id": "2a853132",
   "metadata": {},
   "outputs": [],
   "source": [
    "len(df_sector)"
   ]
  },
  {
   "cell_type": "code",
   "execution_count": null,
   "id": "d5e60b1d",
   "metadata": {},
   "outputs": [],
   "source": [
    "df_sector['Food']['271560'].columns"
   ]
  },
  {
   "cell_type": "code",
   "execution_count": null,
   "id": "ae51458b",
   "metadata": {},
   "outputs": [],
   "source": [
    "df_sector['Food']['271560'].head()"
   ]
  },
  {
   "cell_type": "code",
   "execution_count": null,
   "id": "3d0c5844",
   "metadata": {},
   "outputs": [],
   "source": [
    "df_sector['Food']['271560'].info()"
   ]
  },
  {
   "cell_type": "markdown",
   "id": "199b6eea",
   "metadata": {},
   "source": [
    "# 6. 특성선택"
   ]
  },
  {
   "cell_type": "code",
   "execution_count": null,
   "id": "14c75b16",
   "metadata": {},
   "outputs": [],
   "source": [
    "# df_sector = {'Food':{'code': DataFrame}}\n",
    "for sector_name, df_dict in df_sector.items():\n",
    "    for stockcode, df in df_dict.items():\n",
    "        df = df[['일자','현재가','거래량']]\n",
    "        df['일자'] = pd.to_datetime(df['일자'])\n",
    "        df['종가'] = df['현재가'].astype(int)\n",
    "        del df['현재가']\n",
    "        df['거래량'] = df['거래량'].astype(int)\n",
    "        df_sector[sector_name][stockcode] = df"
   ]
  },
  {
   "cell_type": "code",
   "execution_count": null,
   "id": "c6b1ef23",
   "metadata": {},
   "outputs": [],
   "source": [
    "kospi = kospi[['일자','현재가']]\n",
    "kospi['일자'] = pd.to_datetime(kospi['일자'])\n",
    "kospi['코스피지수'] = kospi['현재가'].astype(int)\n",
    "del kospi['현재가']\n",
    "kospi['코스피지수'] = kospi['코스피지수'].apply(lambda x : x/100)\n",
    "kospi"
   ]
  },
  {
   "cell_type": "markdown",
   "id": "cf94f4a9",
   "metadata": {},
   "source": [
    "# 7. 데이터 저장"
   ]
  },
  {
   "cell_type": "code",
   "execution_count": null,
   "id": "f5abb37e",
   "metadata": {},
   "outputs": [],
   "source": [
    "with open('df_sector.pickle','wb') as f:\n",
    "    pickle.dump(df_sector,f)"
   ]
  },
  {
   "cell_type": "code",
   "execution_count": null,
   "id": "b3718086",
   "metadata": {},
   "outputs": [],
   "source": [
    "with open('sector.pickle','wb') as f:\n",
    "    pickle.dump(sector,f)\n"
   ]
  },
  {
   "cell_type": "code",
   "execution_count": null,
   "id": "23ae1051",
   "metadata": {
    "scrolled": true
   },
   "outputs": [],
   "source": [
    "with open('kospi.pickle'.'wb') as f:\n",
    "    pickle.dump(kospi,f)"
   ]
  },
  {
   "cell_type": "code",
   "execution_count": null,
   "id": "794b92a0",
   "metadata": {},
   "outputs": [],
   "source": []
  }
 ],
 "metadata": {
  "kernelspec": {
   "display_name": "Python 3 (ipykernel)",
   "language": "python",
   "name": "python3"
  },
  "language_info": {
   "codemirror_mode": {
    "name": "ipython",
    "version": 3
   },
   "file_extension": ".py",
   "mimetype": "text/x-python",
   "name": "python",
   "nbconvert_exporter": "python",
   "pygments_lexer": "ipython3",
   "version": "3.7.13"
  }
 },
 "nbformat": 4,
 "nbformat_minor": 5
}
