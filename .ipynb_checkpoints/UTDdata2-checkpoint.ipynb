{
 "cells": [
  {
   "cell_type": "code",
   "execution_count": 1,
   "id": "4cf7fb25",
   "metadata": {},
   "outputs": [],
   "source": [
    "import pandas as pd\n",
    "from bs4 import BeautifulSoup\n",
    "import requests\n",
    "import warnings\n",
    "warnings.filterwarnings('ignore')\n",
    "import time\n",
    "import pickle\n",
    "from tqdm import tqdm"
   ]
  },
  {
   "cell_type": "code",
   "execution_count": 2,
   "id": "ad9085c6",
   "metadata": {},
   "outputs": [],
   "source": [
    "import pickle\n",
    "with open('sector.pickle','rb') as f:\n",
    "    sector = pickle.load(f)"
   ]
  },
  {
   "cell_type": "code",
   "execution_count": 3,
   "id": "b5ab49fc",
   "metadata": {},
   "outputs": [],
   "source": [
    "def get_stock_price(code, num_of_pages):\n",
    "    url = f\"http://finance.naver.com/item/sise_day.nhn?code={code}\" \n",
    "    bs = BeautifulSoup(requests.get(url=url, headers = headers).text, 'html.parser')\n",
    "    pgrr = bs.find(\"td\", class_=\"pgRR\")\n",
    "    last_page = int(pgrr.a[\"href\"].split('=')[-1])\n",
    "    pages = min(last_page, num_of_pages) # 마지막 페이지와 가져올 페이지 수 중에 작은 값 선택\n",
    "    df = pd.DataFrame()\n",
    "\n",
    "    for page in range(1, pages+1):\n",
    "        page_url = '{}&page={}'.format(url, page)\n",
    "        df = df.append(pd.read_html(requests.get(page_url, headers={'User-agent': 'Mozilla/5.0'}).text)[0])\n",
    "        \n",
    "    df['날짜'] = pd.to_datetime(df['날짜']) \n",
    "    df = df.dropna()\n",
    "    df[['종가',  '시가', '고가', '저가', '거래량']] = df[['종가', '시가', '고가', '저가', '거래량']].astype(int) # int형으로 변경\n",
    "    df = df[['날짜', '거래량','시가', '고가', '저가','종가']] # 컬럼 순서 정렬\n",
    "    df = df.sort_values(by = '날짜') # 날짜순으로 정렬\n",
    "    df = df.loc[::-1].reset_index(drop=True)\n",
    "    return df"
   ]
  },
  {
   "cell_type": "code",
   "execution_count": 4,
   "id": "8295b5ab",
   "metadata": {},
   "outputs": [],
   "source": [
    "headers = {'User-agent': 'Mozilla/5.0'}\n",
    "pages = 2\n",
    "df_sector_UTD = {}\n",
    "for sector_name in sector:\n",
    "    df_sector_UTD[sector_name] = {}\n"
   ]
  },
  {
   "cell_type": "code",
   "execution_count": 5,
   "id": "ad3e26d9",
   "metadata": {},
   "outputs": [
    {
     "name": "stderr",
     "output_type": "stream",
     "text": [
      "100%|████████████████████████████████████████████████████████████████████████████████████████████████████████| 5/5 [00:02<00:00,  2.42it/s]\n",
      "100%|████████████████████████████████████████████████████████████████████████████████████████████████████████| 5/5 [00:01<00:00,  3.45it/s]\n",
      "100%|████████████████████████████████████████████████████████████████████████████████████████████████████████| 5/5 [00:01<00:00,  2.91it/s]\n",
      "100%|████████████████████████████████████████████████████████████████████████████████████████████████████████| 5/5 [00:01<00:00,  2.90it/s]\n",
      "100%|████████████████████████████████████████████████████████████████████████████████████████████████████████| 4/4 [00:01<00:00,  2.91it/s]\n",
      "100%|████████████████████████████████████████████████████████████████████████████████████████████████████████| 5/5 [00:01<00:00,  2.69it/s]\n",
      "100%|████████████████████████████████████████████████████████████████████████████████████████████████████████| 4/4 [00:01<00:00,  3.31it/s]\n",
      "100%|████████████████████████████████████████████████████████████████████████████████████████████████████████| 5/5 [00:01<00:00,  3.47it/s]\n",
      "100%|████████████████████████████████████████████████████████████████████████████████████████████████████████| 4/4 [00:01<00:00,  2.23it/s]\n",
      "100%|████████████████████████████████████████████████████████████████████████████████████████████████████████| 5/5 [00:01<00:00,  3.28it/s]\n",
      "100%|████████████████████████████████████████████████████████████████████████████████████████████████████████| 5/5 [00:01<00:00,  3.29it/s]\n",
      "100%|████████████████████████████████████████████████████████████████████████████████████████████████████████| 3/3 [00:00<00:00,  3.41it/s]\n",
      "100%|████████████████████████████████████████████████████████████████████████████████████████████████████████| 3/3 [00:00<00:00,  3.09it/s]\n",
      "100%|████████████████████████████████████████████████████████████████████████████████████████████████████████| 5/5 [00:01<00:00,  3.16it/s]\n",
      "100%|████████████████████████████████████████████████████████████████████████████████████████████████████████| 4/4 [00:01<00:00,  3.25it/s]\n",
      "100%|████████████████████████████████████████████████████████████████████████████████████████████████████████| 4/4 [00:01<00:00,  3.39it/s]\n",
      "100%|████████████████████████████████████████████████████████████████████████████████████████████████████████| 5/5 [00:01<00:00,  3.15it/s]\n",
      "100%|████████████████████████████████████████████████████████████████████████████████████████████████████████| 6/6 [00:01<00:00,  3.22it/s]\n"
     ]
    }
   ],
   "source": [
    "for sector_name, code_list in sector.items():\n",
    "    for stock_code in tqdm(code_list):\n",
    "        df_sector_UTD[sector_name][stock_code] = get_stock_price(stock_code,pages)\n",
    "        time.sleep(0.01)"
   ]
  },
  {
   "cell_type": "code",
   "execution_count": 10,
   "id": "327d0a75",
   "metadata": {},
   "outputs": [],
   "source": [
    "with open('df_sector_UTD.pickle', 'wb') as f:\n",
    "    pickle.dump(df_sector_UTD,f)"
   ]
  },
  {
   "cell_type": "code",
   "execution_count": null,
   "id": "c42e40d2",
   "metadata": {},
   "outputs": [],
   "source": []
  }
 ],
 "metadata": {
  "kernelspec": {
   "display_name": "Python 3 (ipykernel)",
   "language": "python",
   "name": "python3"
  },
  "language_info": {
   "codemirror_mode": {
    "name": "ipython",
    "version": 3
   },
   "file_extension": ".py",
   "mimetype": "text/x-python",
   "name": "python",
   "nbconvert_exporter": "python",
   "pygments_lexer": "ipython3",
   "version": "3.9.12"
  }
 },
 "nbformat": 4,
 "nbformat_minor": 5
}
