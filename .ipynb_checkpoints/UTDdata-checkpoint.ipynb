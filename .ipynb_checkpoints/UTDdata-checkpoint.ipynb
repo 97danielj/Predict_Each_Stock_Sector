{
 "cells": [
  {
   "cell_type": "markdown",
   "id": "b600245f",
   "metadata": {},
   "source": [
    "# 1. 환경설정"
   ]
  },
  {
   "cell_type": "code",
   "execution_count": 1,
   "id": "39fe6d62",
   "metadata": {},
   "outputs": [
    {
     "ename": "ModuleNotFoundError",
     "evalue": "No module named 'pykiwoom'",
     "output_type": "error",
     "traceback": [
      "\u001b[1;31m---------------------------------------------------------------------------\u001b[0m",
      "\u001b[1;31mModuleNotFoundError\u001b[0m                       Traceback (most recent call last)",
      "Input \u001b[1;32mIn [1]\u001b[0m, in \u001b[0;36m<cell line: 5>\u001b[1;34m()\u001b[0m\n\u001b[0;32m      3\u001b[0m \u001b[38;5;28;01mimport\u001b[39;00m \u001b[38;5;21;01mpandas\u001b[39;00m \u001b[38;5;28;01mas\u001b[39;00m \u001b[38;5;21;01mpd\u001b[39;00m\n\u001b[0;32m      4\u001b[0m \u001b[38;5;28;01mimport\u001b[39;00m \u001b[38;5;21;01mpickle\u001b[39;00m\n\u001b[1;32m----> 5\u001b[0m \u001b[38;5;28;01mfrom\u001b[39;00m \u001b[38;5;21;01mpykiwoom\u001b[39;00m\u001b[38;5;21;01m.\u001b[39;00m\u001b[38;5;21;01mkiwoom\u001b[39;00m \u001b[38;5;28;01mimport\u001b[39;00m \u001b[38;5;241m*\u001b[39m\n\u001b[0;32m      6\u001b[0m \u001b[38;5;28;01mimport\u001b[39;00m \u001b[38;5;21;01mwarnings\u001b[39;00m\n\u001b[0;32m      7\u001b[0m warnings\u001b[38;5;241m.\u001b[39mfilterwarnings(\u001b[38;5;124m'\u001b[39m\u001b[38;5;124mignore\u001b[39m\u001b[38;5;124m'\u001b[39m)\n",
      "\u001b[1;31mModuleNotFoundError\u001b[0m: No module named 'pykiwoom'"
     ]
    }
   ],
   "source": [
    "import pickle\n",
    "import time\n",
    "import pandas as pd\n",
    "import pickle\n",
    "from pykiwoom.kiwoom import *\n",
    "import warnings\n",
    "warnings.filterwarnings('ignore')\n",
    "kiwoom = Kiwoom()\n",
    "kiwoom.CommConnect(block=True)"
   ]
  },
  {
   "cell_type": "code",
   "execution_count": null,
   "id": "d685323b",
   "metadata": {},
   "outputs": [],
   "source": [
    "state = kiwoom.GetConnectState()\n",
    "if state == 0:\n",
    "    print(\"미연결\")\n",
    "elif state == 1:\n",
    "    print(\"연결완료\")"
   ]
  },
  {
   "cell_type": "markdown",
   "id": "cd7fd593",
   "metadata": {},
   "source": [
    "# 2. 데이터 읽기"
   ]
  },
  {
   "cell_type": "code",
   "execution_count": null,
   "id": "27af37c6",
   "metadata": {},
   "outputs": [],
   "source": [
    "with open('sector.pickle','rb') as f:\n",
    "    sector = pickle.load(f)\n",
    "with open('df_sector2.pickle','rb') as f:\n",
    "    df_sector = pickle.load(f)\n",
    "#with open('kospi.pickle','rb') as f:\n",
    " #   kospi = pickle.load(f)"
   ]
  },
  {
   "cell_type": "code",
   "execution_count": null,
   "id": "28ac907f",
   "metadata": {},
   "outputs": [],
   "source": [
    "sector"
   ]
  },
  {
   "cell_type": "code",
   "execution_count": null,
   "id": "d5b41f9e",
   "metadata": {},
   "outputs": [],
   "source": [
    "df_sector"
   ]
  },
  {
   "cell_type": "code",
   "execution_count": null,
   "id": "61371f98",
   "metadata": {},
   "outputs": [],
   "source": [
    "#kospi"
   ]
  },
  {
   "cell_type": "markdown",
   "id": "0897616b",
   "metadata": {},
   "source": [
    "# 3. 데이터셋 최신화\n",
    "1. 최신 주가 데이터 읽고 업종 데이터셋 추가\n",
    "2. 최신 코스피 지수 읽고 코스피 데이터셋 추가"
   ]
  },
  {
   "cell_type": "code",
   "execution_count": null,
   "id": "504a8440",
   "metadata": {},
   "outputs": [],
   "source": [
    "from datetime import date,datetime\n",
    "today = date.today()\n",
    "today = today.isoformat()\n",
    "today = today.replace('-','')\n",
    "#yesterday = int(today)-1\n",
    "#yesterday = str(yesterday)\n",
    "#print(yesterday, type(yesterday))\n",
    "set_d = today"
   ]
  },
  {
   "cell_type": "code",
   "execution_count": null,
   "id": "3e10ff81",
   "metadata": {},
   "outputs": [],
   "source": [
    "today"
   ]
  },
  {
   "cell_type": "code",
   "execution_count": null,
   "id": "d380a772",
   "metadata": {},
   "outputs": [],
   "source": [
    "set_d"
   ]
  },
  {
   "cell_type": "markdown",
   "id": "040a6301",
   "metadata": {},
   "source": [
    "# 최신 data 수집"
   ]
  },
  {
   "cell_type": "code",
   "execution_count": null,
   "id": "f07629db",
   "metadata": {},
   "outputs": [],
   "source": [
    "df_sector_2 = {'Food':{},\n",
    "          'Clothing' : {},\n",
    "          'Chemical' : {},\n",
    "          'Medicine' : {},\n",
    "          'Non_Metal' : {},\n",
    "          'Metal': {},\n",
    "          'Machine' : {},\n",
    "          'Electronic' : {},\n",
    "          'Construction' : {},\n",
    "          'Transport': {},\n",
    "          'Distribution' : {},\n",
    "          'Power': {},\n",
    "          'Tele' : {},\n",
    "          'Finance': {},\n",
    "          'Brokerage' : {},\n",
    "          'Insurer': {},\n",
    "          'Service': {},\n",
    "          'Manufacturer': {}}"
   ]
  },
  {
   "cell_type": "code",
   "execution_count": null,
   "id": "ef225a48",
   "metadata": {},
   "outputs": [],
   "source": [
    "def Add_Data(sector_name,stockcode):\n",
    "    df = kiwoom.block_request(\"opt10081\",\n",
    "                          종목코드=stockcode,\n",
    "                          기준일자=set_d,\n",
    "                          수정주가구분=1,\n",
    "                          output=\"주식일봉차트조회\",\n",
    "                          next=0)\n",
    "    df = df[['일자','현재가','거래량','시가','고가','저가']]\n",
    "    df2 = pd.DataFrame()\n",
    "    df2['일자'] = pd.to_datetime(df['일자'])\n",
    "    df2['종가'] = df['현재가'].astype(int)\n",
    "    df2['거래량'] = df['거래량'].astype(int)\n",
    "    df2['시가'] = df['시가'].astype(int)\n",
    "    df2['고가'] = df['고가'].astype(int)\n",
    "    df2['저가'] = df['저가'].astype(int)\n",
    "    df_sector_2[sector_name][stockcode] = df2\n",
    "    del df2"
   ]
  },
  {
   "cell_type": "code",
   "execution_count": null,
   "id": "a6827672",
   "metadata": {},
   "outputs": [],
   "source": [
    "import time"
   ]
  },
  {
   "cell_type": "code",
   "execution_count": null,
   "id": "cbbd5200",
   "metadata": {
    "scrolled": true
   },
   "outputs": [],
   "source": [
    "#데이터 수집 자동화 코드\n",
    "for sector_name, stockcode_list in sector.items():\n",
    "    print(f'---------{sector_name}업종 데이터 수집----------')\n",
    "    for stockcode in stockcode_list:\n",
    "        # 주식항목이름\n",
    "        stockname = kiwoom.GetMasterCodeName(stockcode)\n",
    "        print(f'--------[{stockname}] 항목 데이터 수집---------')\n",
    "        Add_Data(sector_name,stockcode)\n",
    "        time.sleep(0.2) #time을 안넣어주면 중간에 종종 수집이 안되고 멈추는 경우가 발생"
   ]
  },
  {
   "cell_type": "code",
   "execution_count": null,
   "id": "f5688407",
   "metadata": {},
   "outputs": [],
   "source": [
    "df_sector_2"
   ]
  },
  {
   "cell_type": "markdown",
   "id": "44320100",
   "metadata": {},
   "source": [
    "# 이전 data와 최신 data 병합(최신화)"
   ]
  },
  {
   "cell_type": "code",
   "execution_count": null,
   "id": "885a2285",
   "metadata": {},
   "outputs": [],
   "source": [
    "'''\n",
    "df_sector_3 = {'Food':{},\n",
    "          'Clothing' : {},\n",
    "          'Chemical' : {},\n",
    "          'Medicine' : {},\n",
    "          'Non_Metal' : {},\n",
    "          'Metal': {},\n",
    "          'Machine' : {},\n",
    "          'Electronic' : {},\n",
    "          'Construction' : {},\n",
    "          'Transport': {},\n",
    "          'Distribution' : {},\n",
    "          'Power': {},\n",
    "          'Tele' : {},\n",
    "          'Finance': {},\n",
    "          'Brokerage' : {},\n",
    "          'Insurer': {},\n",
    "          'Service': {},\n",
    "          'Manufacturer': {}}\n",
    "'''"
   ]
  },
  {
   "cell_type": "code",
   "execution_count": null,
   "id": "d95610b9",
   "metadata": {},
   "outputs": [],
   "source": [
    "for sector_name, df_dict in df_sector.items():\n",
    "    for stockcode, df in df_dict.items():\n",
    "        df = pd.concat([df_sector_2[sector_name][stockcode],df])\n",
    "        df=df.drop_duplicates(subset=['일자'])\n",
    "        df = df.reset_index(drop=True)\n",
    "        df_sector[sector_name][stockcode] = df"
   ]
  },
  {
   "cell_type": "code",
   "execution_count": null,
   "id": "30002bf8",
   "metadata": {},
   "outputs": [],
   "source": [
    "df_sector"
   ]
  },
  {
   "cell_type": "markdown",
   "id": "7765146f",
   "metadata": {},
   "source": [
    "# 최신 kospi 수집"
   ]
  },
  {
   "cell_type": "code",
   "execution_count": null,
   "id": "bddcd9f6",
   "metadata": {},
   "outputs": [],
   "source": [
    "'''\n",
    "def Add_Kospi():\n",
    "    df = kiwoom.block_request(\"opt20006\",\n",
    "                              업종코드=\"001\",\n",
    "                              기준일자=set_d,\n",
    "                              output=\"업종일봉조회\",\n",
    "                              next=0)\n",
    "    df = df[['일자','현재가']]\n",
    "    df2 = pd.DataFrame()\n",
    "    df2['일자'] = pd.to_datetime(df['일자'])\n",
    "    df2['코스피지수'] = df['현재가'].astype(int)\n",
    "    df2['코스피지수'] = df2['코스피지수'].apply(lambda x : x/100)\n",
    "    return df2    \n",
    "    \n",
    "'''"
   ]
  },
  {
   "cell_type": "code",
   "execution_count": null,
   "id": "104f935d",
   "metadata": {},
   "outputs": [],
   "source": [
    "#kospi2 = Add_Kospi()"
   ]
  },
  {
   "cell_type": "code",
   "execution_count": null,
   "id": "b65b1500",
   "metadata": {
    "scrolled": true
   },
   "outputs": [],
   "source": [
    "#kospi2"
   ]
  },
  {
   "cell_type": "markdown",
   "id": "968a93f7",
   "metadata": {},
   "source": [
    "# 이전 kospi와 최신 kospi 병합(최신화)"
   ]
  },
  {
   "cell_type": "code",
   "execution_count": null,
   "id": "64fedc85",
   "metadata": {},
   "outputs": [],
   "source": [
    "#kospi3 = pd.concat([kospi2,kospi])\n",
    "#kospi3=kospi3.drop_duplicates(subset=['일자'])\n",
    "#kospi3 = kospi3.reset_index(drop=True)"
   ]
  },
  {
   "cell_type": "code",
   "execution_count": null,
   "id": "7fde83ee",
   "metadata": {},
   "outputs": [],
   "source": [
    "#kospi3"
   ]
  },
  {
   "cell_type": "code",
   "execution_count": null,
   "id": "9c28b2f6",
   "metadata": {},
   "outputs": [],
   "source": [
    "with open('df_sector_UTD.pickle','wb') as f:\n",
    "    pickle.dump(df_sector,f)"
   ]
  },
  {
   "cell_type": "code",
   "execution_count": null,
   "id": "3c92c56b",
   "metadata": {},
   "outputs": [],
   "source": [
    "# with open('kospi.pickle','wb') as f:\n",
    "#     pickle.dump(kospi3,f)"
   ]
  }
 ],
 "metadata": {
  "kernelspec": {
   "display_name": "Python 3 (ipykernel)",
   "language": "python",
   "name": "python3"
  },
  "language_info": {
   "codemirror_mode": {
    "name": "ipython",
    "version": 3
   },
   "file_extension": ".py",
   "mimetype": "text/x-python",
   "name": "python",
   "nbconvert_exporter": "python",
   "pygments_lexer": "ipython3",
   "version": "3.9.12"
  }
 },
 "nbformat": 4,
 "nbformat_minor": 5
}
